{
  "nbformat": 4,
  "nbformat_minor": 0,
  "metadata": {
    "colab": {
      "name": "Building the dataset.ipynb",
      "version": "0.3.2",
      "provenance": [],
      "toc_visible": true
    },
    "kernelspec": {
      "name": "python3",
      "display_name": "Python 3"
    }
  },
  "cells": [
    {
      "cell_type": "markdown",
      "metadata": {
        "id": "2qw40Z36YRlQ",
        "colab_type": "text"
      },
      "source": [
        "Authors: Luís Eduardo Anunciado Silva, Mayra Dantas de Azevedo\n",
        "\n",
        "\n",
        "\n",
        "---\n",
        "\n"
      ]
    },
    {
      "cell_type": "code",
      "metadata": {
        "id": "pX5QMb7Icuy1",
        "colab_type": "code",
        "colab": {
          "base_uri": "https://localhost:8080/",
          "height": 285
        },
        "outputId": "614c8a79-71f9-43cd-e5de-601bebd5e9a8"
      },
      "source": [
        "!pip install unidecode\n",
        "!pip install geopandas"
      ],
      "execution_count": 1,
      "outputs": [
        {
          "output_type": "stream",
          "text": [
            "Requirement already satisfied: unidecode in /usr/local/lib/python3.6/dist-packages (1.0.23)\n",
            "Requirement already satisfied: geopandas in /usr/local/lib/python3.6/dist-packages (0.5.0)\n",
            "Requirement already satisfied: fiona in /usr/local/lib/python3.6/dist-packages (from geopandas) (1.8.6)\n",
            "Requirement already satisfied: shapely in /usr/local/lib/python3.6/dist-packages (from geopandas) (1.6.4.post2)\n",
            "Requirement already satisfied: pandas in /usr/local/lib/python3.6/dist-packages (from geopandas) (0.24.2)\n",
            "Requirement already satisfied: pyproj in /usr/local/lib/python3.6/dist-packages (from geopandas) (2.1.3)\n",
            "Requirement already satisfied: click<8,>=4.0 in /usr/local/lib/python3.6/dist-packages (from fiona->geopandas) (7.0)\n",
            "Requirement already satisfied: six>=1.7 in /usr/local/lib/python3.6/dist-packages (from fiona->geopandas) (1.12.0)\n",
            "Requirement already satisfied: click-plugins>=1.0 in /usr/local/lib/python3.6/dist-packages (from fiona->geopandas) (1.1.1)\n",
            "Requirement already satisfied: cligj>=0.5 in /usr/local/lib/python3.6/dist-packages (from fiona->geopandas) (0.5.0)\n",
            "Requirement already satisfied: munch in /usr/local/lib/python3.6/dist-packages (from fiona->geopandas) (2.3.2)\n",
            "Requirement already satisfied: attrs>=17 in /usr/local/lib/python3.6/dist-packages (from fiona->geopandas) (19.1.0)\n",
            "Requirement already satisfied: numpy>=1.12.0 in /usr/local/lib/python3.6/dist-packages (from pandas->geopandas) (1.16.3)\n",
            "Requirement already satisfied: pytz>=2011k in /usr/local/lib/python3.6/dist-packages (from pandas->geopandas) (2018.9)\n",
            "Requirement already satisfied: python-dateutil>=2.5.0 in /usr/local/lib/python3.6/dist-packages (from pandas->geopandas) (2.5.3)\n"
          ],
          "name": "stdout"
        }
      ]
    },
    {
      "cell_type": "code",
      "metadata": {
        "id": "UCoHfo0OOinD",
        "colab_type": "code",
        "colab": {}
      },
      "source": [
        "import requests\n",
        "import json\n",
        "\n",
        "import pandas as pd\n",
        "import numpy as np\n",
        "\n",
        "import geopandas as gpd\n",
        "from shapely.geometry import Point\n",
        "from shapely.geometry.polygon import Polygon\n",
        "import unidecode"
      ],
      "execution_count": 0,
      "outputs": []
    },
    {
      "cell_type": "markdown",
      "metadata": {
        "id": "V7Auu-k7Y1JF",
        "colab_type": "text"
      },
      "source": [
        "## Schools and hospitals\n",
        "\n",
        "Using the [Overpass API](https://wiki.openstreetmap.org/wiki/Overpass_API), we get the schools and hospitals registered in Natal, RN."
      ]
    },
    {
      "cell_type": "code",
      "metadata": {
        "id": "4MlU7OREOeCy",
        "colab_type": "code",
        "colab": {}
      },
      "source": [
        "overpass_url = \"http://overpass-api.de/api/interpreter\"\n",
        "overpass_query = \"\"\"\n",
        "[out:json][timeout:25]; area(3600301091)->.searchArea; ( node['amenity'='hospital'](area.searchArea); node['amenity'='school'](area.searchArea);relation['admin_level'='10'](area.searchArea); ); out body; >; out center;\n",
        "\"\"\"\n",
        "response = requests.get(overpass_url, \n",
        "                        params={'data': overpass_query})\n",
        "data = response.json()"
      ],
      "execution_count": 0,
      "outputs": []
    },
    {
      "cell_type": "code",
      "metadata": {
        "id": "AYcf-gnAQQf0",
        "colab_type": "code",
        "colab": {}
      },
      "source": [
        "df = pd.DataFrame(data['elements'])"
      ],
      "execution_count": 0,
      "outputs": []
    },
    {
      "cell_type": "code",
      "metadata": {
        "id": "21i_rO9URPj_",
        "colab_type": "code",
        "outputId": "af62804d-a207-4cfe-ae3c-fc04c39077a6",
        "colab": {
          "base_uri": "https://localhost:8080/",
          "height": 206
        }
      },
      "source": [
        "df.head()"
      ],
      "execution_count": 5,
      "outputs": [
        {
          "output_type": "execute_result",
          "data": {
            "text/html": [
              "<div>\n",
              "<style scoped>\n",
              "    .dataframe tbody tr th:only-of-type {\n",
              "        vertical-align: middle;\n",
              "    }\n",
              "\n",
              "    .dataframe tbody tr th {\n",
              "        vertical-align: top;\n",
              "    }\n",
              "\n",
              "    .dataframe thead th {\n",
              "        text-align: right;\n",
              "    }\n",
              "</style>\n",
              "<table border=\"1\" class=\"dataframe\">\n",
              "  <thead>\n",
              "    <tr style=\"text-align: right;\">\n",
              "      <th></th>\n",
              "      <th>center</th>\n",
              "      <th>id</th>\n",
              "      <th>lat</th>\n",
              "      <th>lon</th>\n",
              "      <th>members</th>\n",
              "      <th>nodes</th>\n",
              "      <th>tags</th>\n",
              "      <th>type</th>\n",
              "    </tr>\n",
              "  </thead>\n",
              "  <tbody>\n",
              "    <tr>\n",
              "      <th>0</th>\n",
              "      <td>NaN</td>\n",
              "      <td>501170977</td>\n",
              "      <td>-5.869024</td>\n",
              "      <td>-35.234268</td>\n",
              "      <td>NaN</td>\n",
              "      <td>NaN</td>\n",
              "      <td>{'amenity': 'school'}</td>\n",
              "      <td>node</td>\n",
              "    </tr>\n",
              "    <tr>\n",
              "      <th>1</th>\n",
              "      <td>NaN</td>\n",
              "      <td>501170997</td>\n",
              "      <td>-5.823610</td>\n",
              "      <td>-35.222611</td>\n",
              "      <td>NaN</td>\n",
              "      <td>NaN</td>\n",
              "      <td>{'amenity': 'school', 'name': 'Centro de Atenç...</td>\n",
              "      <td>node</td>\n",
              "    </tr>\n",
              "    <tr>\n",
              "      <th>2</th>\n",
              "      <td>NaN</td>\n",
              "      <td>501171016</td>\n",
              "      <td>-5.871019</td>\n",
              "      <td>-35.221614</td>\n",
              "      <td>NaN</td>\n",
              "      <td>NaN</td>\n",
              "      <td>{'amenity': 'school', 'name': 'Piaget'}</td>\n",
              "      <td>node</td>\n",
              "    </tr>\n",
              "    <tr>\n",
              "      <th>3</th>\n",
              "      <td>NaN</td>\n",
              "      <td>501619315</td>\n",
              "      <td>-5.816246</td>\n",
              "      <td>-35.204844</td>\n",
              "      <td>NaN</td>\n",
              "      <td>NaN</td>\n",
              "      <td>{'amenity': 'hospital', 'name': 'Hospital da U...</td>\n",
              "      <td>node</td>\n",
              "    </tr>\n",
              "    <tr>\n",
              "      <th>4</th>\n",
              "      <td>NaN</td>\n",
              "      <td>501784871</td>\n",
              "      <td>-5.812943</td>\n",
              "      <td>-35.210726</td>\n",
              "      <td>NaN</td>\n",
              "      <td>NaN</td>\n",
              "      <td>{'amenity': 'school'}</td>\n",
              "      <td>node</td>\n",
              "    </tr>\n",
              "  </tbody>\n",
              "</table>\n",
              "</div>"
            ],
            "text/plain": [
              "  center         id  ...                                               tags  type\n",
              "0    NaN  501170977  ...                              {'amenity': 'school'}  node\n",
              "1    NaN  501170997  ...  {'amenity': 'school', 'name': 'Centro de Atenç...  node\n",
              "2    NaN  501171016  ...            {'amenity': 'school', 'name': 'Piaget'}  node\n",
              "3    NaN  501619315  ...  {'amenity': 'hospital', 'name': 'Hospital da U...  node\n",
              "4    NaN  501784871  ...                              {'amenity': 'school'}  node\n",
              "\n",
              "[5 rows x 8 columns]"
            ]
          },
          "metadata": {
            "tags": []
          },
          "execution_count": 5
        }
      ]
    },
    {
      "cell_type": "code",
      "metadata": {
        "id": "K8p4X8EDRnfG",
        "colab_type": "code",
        "outputId": "c9724b19-b1a2-4ce5-b954-72a16863e5a2",
        "colab": {
          "base_uri": "https://localhost:8080/",
          "height": 249
        }
      },
      "source": [
        "df.info()"
      ],
      "execution_count": 6,
      "outputs": [
        {
          "output_type": "stream",
          "text": [
            "<class 'pandas.core.frame.DataFrame'>\n",
            "RangeIndex: 2770 entries, 0 to 2769\n",
            "Data columns (total 8 columns):\n",
            "center     407 non-null object\n",
            "id         2770 non-null int64\n",
            "lat        2327 non-null float64\n",
            "lon        2327 non-null float64\n",
            "members    36 non-null object\n",
            "nodes      407 non-null object\n",
            "tags       499 non-null object\n",
            "type       2770 non-null object\n",
            "dtypes: float64(2), int64(1), object(5)\n",
            "memory usage: 173.2+ KB\n"
          ],
          "name": "stdout"
        }
      ]
    },
    {
      "cell_type": "markdown",
      "metadata": {
        "id": "KLdVtuSsZcxA",
        "colab_type": "text"
      },
      "source": [
        "Regarding the processing of the amenitites, we create a column that keeps the category of the amenity: school or hospital "
      ]
    },
    {
      "cell_type": "code",
      "metadata": {
        "id": "lsDl-3RYhtEs",
        "colab_type": "code",
        "colab": {}
      },
      "source": [
        "def get_amenity(row):\n",
        "  try:\n",
        "    amenity = row['amenity']\n",
        "    return amenity\n",
        "  except:\n",
        "    return np.nan\n",
        "  \n",
        "def get_name(row):\n",
        "  try:\n",
        "    name = row['name']\n",
        "    return name\n",
        "  except:\n",
        "    return np.nan"
      ],
      "execution_count": 0,
      "outputs": []
    },
    {
      "cell_type": "code",
      "metadata": {
        "id": "iTo39NRIRhmC",
        "colab_type": "code",
        "colab": {}
      },
      "source": [
        "df['amenity'] = df.tags.apply(get_amenity)\n",
        "df['name'] = df.tags.apply(get_name)"
      ],
      "execution_count": 0,
      "outputs": []
    },
    {
      "cell_type": "markdown",
      "metadata": {
        "id": "AS0XDQRGryJs",
        "colab_type": "text"
      },
      "source": [
        "Now, let's take a look at the data."
      ]
    },
    {
      "cell_type": "code",
      "metadata": {
        "id": "mGsK4wUEXzLc",
        "colab_type": "code",
        "outputId": "af750352-0cfc-43c6-f56f-1c0e99534904",
        "colab": {
          "base_uri": "https://localhost:8080/",
          "height": 88
        }
      },
      "source": [
        "df['amenity'].value_counts()"
      ],
      "execution_count": 9,
      "outputs": [
        {
          "output_type": "execute_result",
          "data": {
            "text/plain": [
              "school      38\n",
              "hospital    21\n",
              "bench        1\n",
              "Name: amenity, dtype: int64"
            ]
          },
          "metadata": {
            "tags": []
          },
          "execution_count": 9
        }
      ]
    },
    {
      "cell_type": "code",
      "metadata": {
        "id": "HoiuiBtxsFaB",
        "colab_type": "code",
        "colab": {}
      },
      "source": [
        "df['amenity'].dropna(inplace=True)"
      ],
      "execution_count": 0,
      "outputs": []
    },
    {
      "cell_type": "code",
      "metadata": {
        "id": "5CfTEbIPh8xG",
        "colab_type": "code",
        "outputId": "4b8e994a-c092-46c8-f842-a582eec63528",
        "colab": {
          "base_uri": "https://localhost:8080/",
          "height": 241
        }
      },
      "source": [
        "df.head()"
      ],
      "execution_count": 11,
      "outputs": [
        {
          "output_type": "execute_result",
          "data": {
            "text/html": [
              "<div>\n",
              "<style scoped>\n",
              "    .dataframe tbody tr th:only-of-type {\n",
              "        vertical-align: middle;\n",
              "    }\n",
              "\n",
              "    .dataframe tbody tr th {\n",
              "        vertical-align: top;\n",
              "    }\n",
              "\n",
              "    .dataframe thead th {\n",
              "        text-align: right;\n",
              "    }\n",
              "</style>\n",
              "<table border=\"1\" class=\"dataframe\">\n",
              "  <thead>\n",
              "    <tr style=\"text-align: right;\">\n",
              "      <th></th>\n",
              "      <th>center</th>\n",
              "      <th>id</th>\n",
              "      <th>lat</th>\n",
              "      <th>lon</th>\n",
              "      <th>members</th>\n",
              "      <th>nodes</th>\n",
              "      <th>tags</th>\n",
              "      <th>type</th>\n",
              "      <th>amenity</th>\n",
              "      <th>name</th>\n",
              "    </tr>\n",
              "  </thead>\n",
              "  <tbody>\n",
              "    <tr>\n",
              "      <th>0</th>\n",
              "      <td>NaN</td>\n",
              "      <td>501170977</td>\n",
              "      <td>-5.869024</td>\n",
              "      <td>-35.234268</td>\n",
              "      <td>NaN</td>\n",
              "      <td>NaN</td>\n",
              "      <td>{'amenity': 'school'}</td>\n",
              "      <td>node</td>\n",
              "      <td>school</td>\n",
              "      <td>NaN</td>\n",
              "    </tr>\n",
              "    <tr>\n",
              "      <th>1</th>\n",
              "      <td>NaN</td>\n",
              "      <td>501170997</td>\n",
              "      <td>-5.823610</td>\n",
              "      <td>-35.222611</td>\n",
              "      <td>NaN</td>\n",
              "      <td>NaN</td>\n",
              "      <td>{'amenity': 'school', 'name': 'Centro de Atenç...</td>\n",
              "      <td>node</td>\n",
              "      <td>school</td>\n",
              "      <td>Centro de Atenção Integral a Criança e ao Adol...</td>\n",
              "    </tr>\n",
              "    <tr>\n",
              "      <th>2</th>\n",
              "      <td>NaN</td>\n",
              "      <td>501171016</td>\n",
              "      <td>-5.871019</td>\n",
              "      <td>-35.221614</td>\n",
              "      <td>NaN</td>\n",
              "      <td>NaN</td>\n",
              "      <td>{'amenity': 'school', 'name': 'Piaget'}</td>\n",
              "      <td>node</td>\n",
              "      <td>school</td>\n",
              "      <td>Piaget</td>\n",
              "    </tr>\n",
              "    <tr>\n",
              "      <th>3</th>\n",
              "      <td>NaN</td>\n",
              "      <td>501619315</td>\n",
              "      <td>-5.816246</td>\n",
              "      <td>-35.204844</td>\n",
              "      <td>NaN</td>\n",
              "      <td>NaN</td>\n",
              "      <td>{'amenity': 'hospital', 'name': 'Hospital da U...</td>\n",
              "      <td>node</td>\n",
              "      <td>hospital</td>\n",
              "      <td>Hospital da UNIMED</td>\n",
              "    </tr>\n",
              "    <tr>\n",
              "      <th>4</th>\n",
              "      <td>NaN</td>\n",
              "      <td>501784871</td>\n",
              "      <td>-5.812943</td>\n",
              "      <td>-35.210726</td>\n",
              "      <td>NaN</td>\n",
              "      <td>NaN</td>\n",
              "      <td>{'amenity': 'school'}</td>\n",
              "      <td>node</td>\n",
              "      <td>school</td>\n",
              "      <td>NaN</td>\n",
              "    </tr>\n",
              "  </tbody>\n",
              "</table>\n",
              "</div>"
            ],
            "text/plain": [
              "  center  ...                                               name\n",
              "0    NaN  ...                                                NaN\n",
              "1    NaN  ...  Centro de Atenção Integral a Criança e ao Adol...\n",
              "2    NaN  ...                                             Piaget\n",
              "3    NaN  ...                                 Hospital da UNIMED\n",
              "4    NaN  ...                                                NaN\n",
              "\n",
              "[5 rows x 10 columns]"
            ]
          },
          "metadata": {
            "tags": []
          },
          "execution_count": 11
        }
      ]
    },
    {
      "cell_type": "code",
      "metadata": {
        "id": "cvPXBsPhmeV0",
        "colab_type": "code",
        "colab": {
          "base_uri": "https://localhost:8080/",
          "height": 71
        },
        "outputId": "76ecb7d8-f251-4b34-f919-224c2fddec61"
      },
      "source": [
        "df.loc[1, 'tags']"
      ],
      "execution_count": 12,
      "outputs": [
        {
          "output_type": "execute_result",
          "data": {
            "text/plain": [
              "{'amenity': 'school',\n",
              " 'name': 'Centro de Atenção Integral a Criança e ao Adolescente',\n",
              " 'short_name': 'CAIC'}"
            ]
          },
          "metadata": {
            "tags": []
          },
          "execution_count": 12
        }
      ]
    },
    {
      "cell_type": "markdown",
      "metadata": {
        "id": "z6rESyi_r-o7",
        "colab_type": "text"
      },
      "source": [
        "## Recovering data about indicators from the API\n",
        "\n",
        "In this section, we use the [Sidra API](http://api.sidra.ibge.gov.br) to recover the neighborhoods, as well as some informations about the average income and other indicators."
      ]
    },
    {
      "cell_type": "code",
      "metadata": {
        "id": "aIYP2WaIsBrD",
        "colab_type": "code",
        "colab": {}
      },
      "source": [
        "# households by neighborhood in Natal (2010)\n",
        "# from Sidra's Table 185 (http://api.sidra.ibge.gov.br/desctabapi.aspx?c=185)\n",
        "headers = {\n",
        "    'Content-Type': 'application/json;charset=UTF-8',\n",
        "    'User-Agent': 'google-colab',\n",
        "    'Accept': 'application/json, text/plain, */*',\n",
        "    'Accept-Encoding': 'gzip, deflate, br',\n",
        "    'Accept-Language': 'pt-BR,pt;q=0.9,en-US;q=0.8,en;q=0.7',\n",
        "    'Connection': 'keep-alive',\n",
        "}\n",
        "\n",
        "\n",
        "endnode = \"http://api.sidra.ibge.gov.br/values/t/3170/p/2010/v/allxp/N102/in%20n6%202408102\"\n",
        "\n",
        "response = requests.get(endnode,headers=headers)\n",
        "\n",
        "# for curiosity, take a look in this variable\n",
        "raw_data = response.json()"
      ],
      "execution_count": 0,
      "outputs": []
    },
    {
      "cell_type": "code",
      "metadata": {
        "id": "BMFOey8QsK4c",
        "colab_type": "code",
        "outputId": "bfd8e3d0-3ab8-466d-9092-61ae9d78a3fb",
        "colab": {
          "base_uri": "https://localhost:8080/",
          "height": 285
        }
      },
      "source": [
        "raw_data[0]"
      ],
      "execution_count": 14,
      "outputs": [
        {
          "output_type": "execute_result",
          "data": {
            "text/plain": [
              "{'D1C': 'Ano (Código)',\n",
              " 'D1N': 'Ano',\n",
              " 'D2C': 'Variável (Código)',\n",
              " 'D2N': 'Variável',\n",
              " 'D3C': 'Bairro (Código)',\n",
              " 'D3N': 'Bairro',\n",
              " 'D4C': 'Situação do domicílio (Código)',\n",
              " 'D4N': 'Situação do domicílio',\n",
              " 'D5C': 'Sexo (Código)',\n",
              " 'D5N': 'Sexo',\n",
              " 'D6C': 'Grupo de idade (Código)',\n",
              " 'D6N': 'Grupo de idade',\n",
              " 'MC': 'Unidade de Medida (Código)',\n",
              " 'MN': 'Unidade de Medida',\n",
              " 'V': 'Valor'}"
            ]
          },
          "metadata": {
            "tags": []
          },
          "execution_count": 14
        }
      ]
    },
    {
      "cell_type": "code",
      "metadata": {
        "id": "BgsGGKP6aOJu",
        "colab_type": "code",
        "colab": {}
      },
      "source": [
        "neighbourhood_df = pd.DataFrame(raw_data)"
      ],
      "execution_count": 0,
      "outputs": []
    },
    {
      "cell_type": "code",
      "metadata": {
        "id": "PNMCcGTrbCXE",
        "colab_type": "code",
        "colab": {
          "base_uri": "https://localhost:8080/",
          "height": 536
        },
        "outputId": "591fb2a5-7ce1-4eef-a4cf-af3a6a7ef92f"
      },
      "source": [
        "neighbourhood_df.head()"
      ],
      "execution_count": 17,
      "outputs": [
        {
          "output_type": "execute_result",
          "data": {
            "text/html": [
              "<div>\n",
              "<style scoped>\n",
              "    .dataframe tbody tr th:only-of-type {\n",
              "        vertical-align: middle;\n",
              "    }\n",
              "\n",
              "    .dataframe tbody tr th {\n",
              "        vertical-align: top;\n",
              "    }\n",
              "\n",
              "    .dataframe thead th {\n",
              "        text-align: right;\n",
              "    }\n",
              "</style>\n",
              "<table border=\"1\" class=\"dataframe\">\n",
              "  <thead>\n",
              "    <tr style=\"text-align: right;\">\n",
              "      <th></th>\n",
              "      <th>D1C</th>\n",
              "      <th>D1N</th>\n",
              "      <th>D2C</th>\n",
              "      <th>D2N</th>\n",
              "      <th>D3C</th>\n",
              "      <th>D3N</th>\n",
              "      <th>D4C</th>\n",
              "      <th>D4N</th>\n",
              "      <th>D5C</th>\n",
              "      <th>D5N</th>\n",
              "      <th>D6C</th>\n",
              "      <th>D6N</th>\n",
              "      <th>MC</th>\n",
              "      <th>MN</th>\n",
              "      <th>V</th>\n",
              "    </tr>\n",
              "  </thead>\n",
              "  <tbody>\n",
              "    <tr>\n",
              "      <th>0</th>\n",
              "      <td>Ano (Código)</td>\n",
              "      <td>Ano</td>\n",
              "      <td>Variável (Código)</td>\n",
              "      <td>Variável</td>\n",
              "      <td>Bairro (Código)</td>\n",
              "      <td>Bairro</td>\n",
              "      <td>Situação do domicílio (Código)</td>\n",
              "      <td>Situação do domicílio</td>\n",
              "      <td>Sexo (Código)</td>\n",
              "      <td>Sexo</td>\n",
              "      <td>Grupo de idade (Código)</td>\n",
              "      <td>Grupo de idade</td>\n",
              "      <td>Unidade de Medida (Código)</td>\n",
              "      <td>Unidade de Medida</td>\n",
              "      <td>Valor</td>\n",
              "    </tr>\n",
              "    <tr>\n",
              "      <th>1</th>\n",
              "      <td>2010</td>\n",
              "      <td>2010</td>\n",
              "      <td>841</td>\n",
              "      <td>Pessoas de 10 anos ou mais de idade, com rendi...</td>\n",
              "      <td>2408102001</td>\n",
              "      <td>Santos Reis - Natal - RN</td>\n",
              "      <td>6795</td>\n",
              "      <td>Total</td>\n",
              "      <td>6794</td>\n",
              "      <td>Total</td>\n",
              "      <td>95253</td>\n",
              "      <td>Total</td>\n",
              "      <td>45</td>\n",
              "      <td>Pessoas</td>\n",
              "      <td>2989</td>\n",
              "    </tr>\n",
              "    <tr>\n",
              "      <th>2</th>\n",
              "      <td>2010</td>\n",
              "      <td>2010</td>\n",
              "      <td>841</td>\n",
              "      <td>Pessoas de 10 anos ou mais de idade, com rendi...</td>\n",
              "      <td>2408102002</td>\n",
              "      <td>Praia do Meio - Natal - RN</td>\n",
              "      <td>6795</td>\n",
              "      <td>Total</td>\n",
              "      <td>6794</td>\n",
              "      <td>Total</td>\n",
              "      <td>95253</td>\n",
              "      <td>Total</td>\n",
              "      <td>45</td>\n",
              "      <td>Pessoas</td>\n",
              "      <td>2810</td>\n",
              "    </tr>\n",
              "    <tr>\n",
              "      <th>3</th>\n",
              "      <td>2010</td>\n",
              "      <td>2010</td>\n",
              "      <td>841</td>\n",
              "      <td>Pessoas de 10 anos ou mais de idade, com rendi...</td>\n",
              "      <td>2408102003</td>\n",
              "      <td>Rocas - Natal - RN</td>\n",
              "      <td>6795</td>\n",
              "      <td>Total</td>\n",
              "      <td>6794</td>\n",
              "      <td>Total</td>\n",
              "      <td>95253</td>\n",
              "      <td>Total</td>\n",
              "      <td>45</td>\n",
              "      <td>Pessoas</td>\n",
              "      <td>5806</td>\n",
              "    </tr>\n",
              "    <tr>\n",
              "      <th>4</th>\n",
              "      <td>2010</td>\n",
              "      <td>2010</td>\n",
              "      <td>841</td>\n",
              "      <td>Pessoas de 10 anos ou mais de idade, com rendi...</td>\n",
              "      <td>2408102004</td>\n",
              "      <td>Ribeira - Natal - RN</td>\n",
              "      <td>6795</td>\n",
              "      <td>Total</td>\n",
              "      <td>6794</td>\n",
              "      <td>Total</td>\n",
              "      <td>95253</td>\n",
              "      <td>Total</td>\n",
              "      <td>45</td>\n",
              "      <td>Pessoas</td>\n",
              "      <td>1453</td>\n",
              "    </tr>\n",
              "  </tbody>\n",
              "</table>\n",
              "</div>"
            ],
            "text/plain": [
              "            D1C   D1N  ...                 MN      V\n",
              "0  Ano (Código)   Ano  ...  Unidade de Medida  Valor\n",
              "1          2010  2010  ...            Pessoas   2989\n",
              "2          2010  2010  ...            Pessoas   2810\n",
              "3          2010  2010  ...            Pessoas   5806\n",
              "4          2010  2010  ...            Pessoas   1453\n",
              "\n",
              "[5 rows x 15 columns]"
            ]
          },
          "metadata": {
            "tags": []
          },
          "execution_count": 17
        }
      ]
    },
    {
      "cell_type": "code",
      "metadata": {
        "id": "nd0jSyp9spjq",
        "colab_type": "code",
        "outputId": "356c61e3-fa14-44a5-9fbf-61a27f84ad2d",
        "colab": {
          "base_uri": "https://localhost:8080/",
          "height": 206
        }
      },
      "source": [
        "neigh_id = []\n",
        "neigh_name = []\n",
        "neigh_house = []\n",
        "\n",
        "# first position is only the header\n",
        "for data in raw_data[1:]:\n",
        "  # checks the variable (people, mean or median)\n",
        "  if( int(data[\"D2C\"]) == 842):\n",
        "    # Variable is the mean of the income\n",
        "    neigh_id.append(int(data[\"D3C\"]))\n",
        "    neigh_house.append(float(data[\"V\"]))\n",
        "    neigh_name.append(data[\"D3N\"].split(\" -\")[0])\n",
        "  \n",
        "neigh_df = pd.DataFrame.from_dict({\"id\": neigh_id,\n",
        "                                  \"name\":neigh_name,\n",
        "                                  \"income\": neigh_house})\n",
        "neigh_df.head()"
      ],
      "execution_count": 18,
      "outputs": [
        {
          "output_type": "execute_result",
          "data": {
            "text/html": [
              "<div>\n",
              "<style scoped>\n",
              "    .dataframe tbody tr th:only-of-type {\n",
              "        vertical-align: middle;\n",
              "    }\n",
              "\n",
              "    .dataframe tbody tr th {\n",
              "        vertical-align: top;\n",
              "    }\n",
              "\n",
              "    .dataframe thead th {\n",
              "        text-align: right;\n",
              "    }\n",
              "</style>\n",
              "<table border=\"1\" class=\"dataframe\">\n",
              "  <thead>\n",
              "    <tr style=\"text-align: right;\">\n",
              "      <th></th>\n",
              "      <th>id</th>\n",
              "      <th>name</th>\n",
              "      <th>income</th>\n",
              "    </tr>\n",
              "  </thead>\n",
              "  <tbody>\n",
              "    <tr>\n",
              "      <th>0</th>\n",
              "      <td>2408102001</td>\n",
              "      <td>Santos Reis</td>\n",
              "      <td>984.31</td>\n",
              "    </tr>\n",
              "    <tr>\n",
              "      <th>1</th>\n",
              "      <td>2408102002</td>\n",
              "      <td>Praia do Meio</td>\n",
              "      <td>1658.16</td>\n",
              "    </tr>\n",
              "    <tr>\n",
              "      <th>2</th>\n",
              "      <td>2408102003</td>\n",
              "      <td>Rocas</td>\n",
              "      <td>969.39</td>\n",
              "    </tr>\n",
              "    <tr>\n",
              "      <th>3</th>\n",
              "      <td>2408102004</td>\n",
              "      <td>Ribeira</td>\n",
              "      <td>2825.82</td>\n",
              "    </tr>\n",
              "    <tr>\n",
              "      <th>4</th>\n",
              "      <td>2408102005</td>\n",
              "      <td>Petrópolis</td>\n",
              "      <td>4736.63</td>\n",
              "    </tr>\n",
              "  </tbody>\n",
              "</table>\n",
              "</div>"
            ],
            "text/plain": [
              "           id           name   income\n",
              "0  2408102001    Santos Reis   984.31\n",
              "1  2408102002  Praia do Meio  1658.16\n",
              "2  2408102003          Rocas   969.39\n",
              "3  2408102004        Ribeira  2825.82\n",
              "4  2408102005     Petrópolis  4736.63"
            ]
          },
          "metadata": {
            "tags": []
          },
          "execution_count": 18
        }
      ]
    },
    {
      "cell_type": "code",
      "metadata": {
        "id": "3CS6FyVes08W",
        "colab_type": "code",
        "colab": {}
      },
      "source": [
        "neigh_df['name_norm'] = neigh_df.name.str.replace(\"ú\", \"u\").str.replace(\"ó\",\"o\")"
      ],
      "execution_count": 0,
      "outputs": []
    },
    {
      "cell_type": "code",
      "metadata": {
        "id": "nxCOhvwoZuvj",
        "colab_type": "code",
        "colab": {
          "base_uri": "https://localhost:8080/",
          "height": 81
        },
        "outputId": "e8183fbd-5a54-4356-b7d3-f5b9317ec072"
      },
      "source": [
        "neigh_df.query(\"name == 'Pitimbú' \")"
      ],
      "execution_count": 20,
      "outputs": [
        {
          "output_type": "execute_result",
          "data": {
            "text/html": [
              "<div>\n",
              "<style scoped>\n",
              "    .dataframe tbody tr th:only-of-type {\n",
              "        vertical-align: middle;\n",
              "    }\n",
              "\n",
              "    .dataframe tbody tr th {\n",
              "        vertical-align: top;\n",
              "    }\n",
              "\n",
              "    .dataframe thead th {\n",
              "        text-align: right;\n",
              "    }\n",
              "</style>\n",
              "<table border=\"1\" class=\"dataframe\">\n",
              "  <thead>\n",
              "    <tr style=\"text-align: right;\">\n",
              "      <th></th>\n",
              "      <th>id</th>\n",
              "      <th>name</th>\n",
              "      <th>income</th>\n",
              "      <th>name_norm</th>\n",
              "    </tr>\n",
              "  </thead>\n",
              "  <tbody>\n",
              "    <tr>\n",
              "      <th>22</th>\n",
              "      <td>2408102023</td>\n",
              "      <td>Pitimbú</td>\n",
              "      <td>2014.2</td>\n",
              "      <td>Pitimbu</td>\n",
              "    </tr>\n",
              "  </tbody>\n",
              "</table>\n",
              "</div>"
            ],
            "text/plain": [
              "            id     name  income name_norm\n",
              "22  2408102023  Pitimbú  2014.2   Pitimbu"
            ]
          },
          "metadata": {
            "tags": []
          },
          "execution_count": 20
        }
      ]
    },
    {
      "cell_type": "markdown",
      "metadata": {
        "colab_type": "text",
        "id": "jQWZW0pCVnd_"
      },
      "source": [
        "## Placing the points at neighborhoods\n",
        "\n",
        "In this section, we use the geojson from Natal to discover where each amenity from the first dataframe is placed."
      ]
    },
    {
      "cell_type": "code",
      "metadata": {
        "colab_type": "code",
        "id": "K2DFxiWqVneP",
        "colab": {}
      },
      "source": [
        "# load the GeoJSON data and use 'UTF-8'encoding\n",
        "geojson_natal_file = requests.get('https://github.com/nymarya/data-science-one/blob/master/Lesson%2314/natal.geojson?raw=true')\n",
        "geo_json_natal = geojson_natal_file.json()"
      ],
      "execution_count": 0,
      "outputs": []
    },
    {
      "cell_type": "markdown",
      "metadata": {
        "colab_type": "text",
        "id": "CPvTRSRIVnfZ"
      },
      "source": [
        "Now, we will separate the geometry of each neighbourhood so we can check whether each point is within which neighbourhood.\n",
        "\n",
        "The [geopandas](http://geopandas.org/) module will help us to recover the polygon that describes the boundaries of each area. Therefore, we are able to check wheter a point (longitud, latitud)  is inside a area."
      ]
    },
    {
      "cell_type": "code",
      "metadata": {
        "id": "9Q7Zbargid0g",
        "colab_type": "code",
        "colab": {}
      },
      "source": [
        "with open('natal.geojson', 'w') as outfile:  \n",
        "    json.dump(geo_json_natal, outfile)"
      ],
      "execution_count": 0,
      "outputs": []
    },
    {
      "cell_type": "code",
      "metadata": {
        "id": "J2JhCIw_hbqr",
        "colab_type": "code",
        "colab": {}
      },
      "source": [
        "geojson_df = gpd.read_file(\"natal.geojson\")"
      ],
      "execution_count": 0,
      "outputs": []
    },
    {
      "cell_type": "code",
      "metadata": {
        "id": "1I8ZV1g-i2Ck",
        "colab_type": "code",
        "colab": {
          "base_uri": "https://localhost:8080/",
          "height": 380
        },
        "outputId": "2b92f9b1-2d5a-4640-9624-385e8892fc2f"
      },
      "source": [
        "geojson_df.head()"
      ],
      "execution_count": 24,
      "outputs": [
        {
          "output_type": "execute_result",
          "data": {
            "text/html": [
              "<div>\n",
              "<style scoped>\n",
              "    .dataframe tbody tr th:only-of-type {\n",
              "        vertical-align: middle;\n",
              "    }\n",
              "\n",
              "    .dataframe tbody tr th {\n",
              "        vertical-align: top;\n",
              "    }\n",
              "\n",
              "    .dataframe thead th {\n",
              "        text-align: right;\n",
              "    }\n",
              "</style>\n",
              "<table border=\"1\" class=\"dataframe\">\n",
              "  <thead>\n",
              "    <tr style=\"text-align: right;\">\n",
              "      <th></th>\n",
              "      <th>id</th>\n",
              "      <th>@id</th>\n",
              "      <th>admin_level</th>\n",
              "      <th>boundary</th>\n",
              "      <th>is_in</th>\n",
              "      <th>name</th>\n",
              "      <th>place</th>\n",
              "      <th>type</th>\n",
              "      <th>alt_name</th>\n",
              "      <th>wikidata</th>\n",
              "      <th>geometry</th>\n",
              "    </tr>\n",
              "  </thead>\n",
              "  <tbody>\n",
              "    <tr>\n",
              "      <th>0</th>\n",
              "      <td>relation/388146</td>\n",
              "      <td>relation/388146</td>\n",
              "      <td>10</td>\n",
              "      <td>administrative</td>\n",
              "      <td>Natal</td>\n",
              "      <td>Pitimbu</td>\n",
              "      <td>suburb</td>\n",
              "      <td>boundary</td>\n",
              "      <td>None</td>\n",
              "      <td>None</td>\n",
              "      <td>POLYGON ((-35.2437294 -5.8420332, -35.2437895 ...</td>\n",
              "    </tr>\n",
              "    <tr>\n",
              "      <th>1</th>\n",
              "      <td>relation/388147</td>\n",
              "      <td>relation/388147</td>\n",
              "      <td>10</td>\n",
              "      <td>administrative</td>\n",
              "      <td>Natal</td>\n",
              "      <td>Planalto</td>\n",
              "      <td>suburb</td>\n",
              "      <td>boundary</td>\n",
              "      <td>None</td>\n",
              "      <td>None</td>\n",
              "      <td>POLYGON ((-35.2538208 -5.8662863, -35.2536119 ...</td>\n",
              "    </tr>\n",
              "    <tr>\n",
              "      <th>2</th>\n",
              "      <td>relation/397022</td>\n",
              "      <td>relation/397022</td>\n",
              "      <td>10</td>\n",
              "      <td>administrative</td>\n",
              "      <td>Natal</td>\n",
              "      <td>Ponta Negra</td>\n",
              "      <td>suburb</td>\n",
              "      <td>boundary</td>\n",
              "      <td>None</td>\n",
              "      <td>None</td>\n",
              "      <td>POLYGON ((-35.1890225 -5.8907943, -35.1889493 ...</td>\n",
              "    </tr>\n",
              "    <tr>\n",
              "      <th>3</th>\n",
              "      <td>relation/1230018</td>\n",
              "      <td>relation/1230018</td>\n",
              "      <td>10</td>\n",
              "      <td>administrative</td>\n",
              "      <td>Natal</td>\n",
              "      <td>Neópolis</td>\n",
              "      <td>suburb</td>\n",
              "      <td>boundary</td>\n",
              "      <td>None</td>\n",
              "      <td>None</td>\n",
              "      <td>POLYGON ((-35.2003077 -5.8734101, -35.1999644 ...</td>\n",
              "    </tr>\n",
              "    <tr>\n",
              "      <th>4</th>\n",
              "      <td>relation/1230020</td>\n",
              "      <td>relation/1230020</td>\n",
              "      <td>10</td>\n",
              "      <td>administrative</td>\n",
              "      <td>Natal</td>\n",
              "      <td>Capim Macio</td>\n",
              "      <td>suburb</td>\n",
              "      <td>boundary</td>\n",
              "      <td>None</td>\n",
              "      <td>None</td>\n",
              "      <td>POLYGON ((-35.1894621 -5.8724223, -35.1890659 ...</td>\n",
              "    </tr>\n",
              "  </tbody>\n",
              "</table>\n",
              "</div>"
            ],
            "text/plain": [
              "                 id  ...                                           geometry\n",
              "0   relation/388146  ...  POLYGON ((-35.2437294 -5.8420332, -35.2437895 ...\n",
              "1   relation/388147  ...  POLYGON ((-35.2538208 -5.8662863, -35.2536119 ...\n",
              "2   relation/397022  ...  POLYGON ((-35.1890225 -5.8907943, -35.1889493 ...\n",
              "3  relation/1230018  ...  POLYGON ((-35.2003077 -5.8734101, -35.1999644 ...\n",
              "4  relation/1230020  ...  POLYGON ((-35.1894621 -5.8724223, -35.1890659 ...\n",
              "\n",
              "[5 rows x 11 columns]"
            ]
          },
          "metadata": {
            "tags": []
          },
          "execution_count": 24
        }
      ]
    },
    {
      "cell_type": "code",
      "metadata": {
        "colab_type": "code",
        "id": "rPim17RVVnfx",
        "colab": {}
      },
      "source": [
        "df['neighbourhood'] = pd.Series()\n",
        "\n",
        "for index, data in geojson_df.iterrows():\n",
        "  # Get the polygon\n",
        "  polygon = Polygon(data['geometry'])\n",
        "  for i, d in df.iterrows():\n",
        "    point = Point(float(d['lon']), float(d['lat']))\n",
        "    if polygon.contains(point) :\n",
        "      # Save the name\n",
        "      df.loc[i, 'neighbourhood'] = unidecode.unidecode(data['name'])"
      ],
      "execution_count": 0,
      "outputs": []
    },
    {
      "cell_type": "code",
      "metadata": {
        "id": "OVd605JumBsT",
        "colab_type": "code",
        "colab": {
          "base_uri": "https://localhost:8080/",
          "height": 258
        },
        "outputId": "24974f06-5562-443a-e7d9-98eab4fb8d75"
      },
      "source": [
        "df.head()"
      ],
      "execution_count": 26,
      "outputs": [
        {
          "output_type": "execute_result",
          "data": {
            "text/html": [
              "<div>\n",
              "<style scoped>\n",
              "    .dataframe tbody tr th:only-of-type {\n",
              "        vertical-align: middle;\n",
              "    }\n",
              "\n",
              "    .dataframe tbody tr th {\n",
              "        vertical-align: top;\n",
              "    }\n",
              "\n",
              "    .dataframe thead th {\n",
              "        text-align: right;\n",
              "    }\n",
              "</style>\n",
              "<table border=\"1\" class=\"dataframe\">\n",
              "  <thead>\n",
              "    <tr style=\"text-align: right;\">\n",
              "      <th></th>\n",
              "      <th>center</th>\n",
              "      <th>id</th>\n",
              "      <th>lat</th>\n",
              "      <th>lon</th>\n",
              "      <th>members</th>\n",
              "      <th>nodes</th>\n",
              "      <th>tags</th>\n",
              "      <th>type</th>\n",
              "      <th>amenity</th>\n",
              "      <th>name</th>\n",
              "      <th>neighbourhood</th>\n",
              "    </tr>\n",
              "  </thead>\n",
              "  <tbody>\n",
              "    <tr>\n",
              "      <th>0</th>\n",
              "      <td>NaN</td>\n",
              "      <td>501170977</td>\n",
              "      <td>-5.869024</td>\n",
              "      <td>-35.234268</td>\n",
              "      <td>NaN</td>\n",
              "      <td>NaN</td>\n",
              "      <td>{'amenity': 'school'}</td>\n",
              "      <td>node</td>\n",
              "      <td>school</td>\n",
              "      <td>NaN</td>\n",
              "      <td>Pitimbu</td>\n",
              "    </tr>\n",
              "    <tr>\n",
              "      <th>1</th>\n",
              "      <td>NaN</td>\n",
              "      <td>501170997</td>\n",
              "      <td>-5.823610</td>\n",
              "      <td>-35.222611</td>\n",
              "      <td>NaN</td>\n",
              "      <td>NaN</td>\n",
              "      <td>{'amenity': 'school', 'name': 'Centro de Atenç...</td>\n",
              "      <td>node</td>\n",
              "      <td>school</td>\n",
              "      <td>Centro de Atenção Integral a Criança e ao Adol...</td>\n",
              "      <td>Lagoa Nova</td>\n",
              "    </tr>\n",
              "    <tr>\n",
              "      <th>2</th>\n",
              "      <td>NaN</td>\n",
              "      <td>501171016</td>\n",
              "      <td>-5.871019</td>\n",
              "      <td>-35.221614</td>\n",
              "      <td>NaN</td>\n",
              "      <td>NaN</td>\n",
              "      <td>{'amenity': 'school', 'name': 'Piaget'}</td>\n",
              "      <td>node</td>\n",
              "      <td>school</td>\n",
              "      <td>Piaget</td>\n",
              "      <td>Pitimbu</td>\n",
              "    </tr>\n",
              "    <tr>\n",
              "      <th>3</th>\n",
              "      <td>NaN</td>\n",
              "      <td>501619315</td>\n",
              "      <td>-5.816246</td>\n",
              "      <td>-35.204844</td>\n",
              "      <td>NaN</td>\n",
              "      <td>NaN</td>\n",
              "      <td>{'amenity': 'hospital', 'name': 'Hospital da U...</td>\n",
              "      <td>node</td>\n",
              "      <td>hospital</td>\n",
              "      <td>Hospital da UNIMED</td>\n",
              "      <td>Lagoa Nova</td>\n",
              "    </tr>\n",
              "    <tr>\n",
              "      <th>4</th>\n",
              "      <td>NaN</td>\n",
              "      <td>501784871</td>\n",
              "      <td>-5.812943</td>\n",
              "      <td>-35.210726</td>\n",
              "      <td>NaN</td>\n",
              "      <td>NaN</td>\n",
              "      <td>{'amenity': 'school'}</td>\n",
              "      <td>node</td>\n",
              "      <td>school</td>\n",
              "      <td>NaN</td>\n",
              "      <td>Lagoa Nova</td>\n",
              "    </tr>\n",
              "  </tbody>\n",
              "</table>\n",
              "</div>"
            ],
            "text/plain": [
              "  center  ...  neighbourhood\n",
              "0    NaN  ...        Pitimbu\n",
              "1    NaN  ...     Lagoa Nova\n",
              "2    NaN  ...        Pitimbu\n",
              "3    NaN  ...     Lagoa Nova\n",
              "4    NaN  ...     Lagoa Nova\n",
              "\n",
              "[5 rows x 11 columns]"
            ]
          },
          "metadata": {
            "tags": []
          },
          "execution_count": 26
        }
      ]
    },
    {
      "cell_type": "markdown",
      "metadata": {
        "id": "JFFfw1obxmXG",
        "colab_type": "text"
      },
      "source": [
        "### Saving the datasets"
      ]
    },
    {
      "cell_type": "code",
      "metadata": {
        "id": "xVxE7Q7zxtD_",
        "colab_type": "code",
        "colab": {}
      },
      "source": [
        "neigh_df.to_csv('neighbourhoods,csv')"
      ],
      "execution_count": 0,
      "outputs": []
    },
    {
      "cell_type": "code",
      "metadata": {
        "id": "aiBV-As0xo5y",
        "colab_type": "code",
        "colab": {}
      },
      "source": [
        "df.to_csv('amenities.csv')"
      ],
      "execution_count": 0,
      "outputs": []
    }
  ]
}