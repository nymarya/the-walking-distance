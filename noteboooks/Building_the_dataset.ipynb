{
  "nbformat": 4,
  "nbformat_minor": 0,
  "metadata": {
    "colab": {
      "name": "Building the dataset.ipynb",
      "version": "0.3.2",
      "provenance": []
    },
    "kernelspec": {
      "name": "python3",
      "display_name": "Python 3"
    }
  },
  "cells": [
    {
      "cell_type": "code",
      "metadata": {
        "id": "UCoHfo0OOinD",
        "colab_type": "code",
        "colab": {}
      },
      "source": [
        "import requests\n",
        "import json\n",
        "\n",
        "import pandas as pd\n",
        "import numpy as np"
      ],
      "execution_count": 0,
      "outputs": []
    },
    {
      "cell_type": "code",
      "metadata": {
        "id": "4MlU7OREOeCy",
        "colab_type": "code",
        "colab": {}
      },
      "source": [
        "overpass_url = \"http://overpass-api.de/api/interpreter\"\n",
        "overpass_query = \"\"\"\n",
        "[out:json][timeout:25]; area(3600301091)->.searchArea; ( node['amenity'='hospital'](area.searchArea); node['amenity'='school'](area.searchArea);relation['admin_level'='10'](area.searchArea); ); out body; >; out center;\n",
        "\"\"\"\n",
        "response = requests.get(overpass_url, \n",
        "                        params={'data': overpass_query})\n",
        "data = response.json()"
      ],
      "execution_count": 0,
      "outputs": []
    },
    {
      "cell_type": "code",
      "metadata": {
        "id": "AYcf-gnAQQf0",
        "colab_type": "code",
        "colab": {}
      },
      "source": [
        "df = pd.DataFrame(data['elements'])"
      ],
      "execution_count": 0,
      "outputs": []
    },
    {
      "cell_type": "code",
      "metadata": {
        "id": "21i_rO9URPj_",
        "colab_type": "code",
        "outputId": "353722be-d55a-4b99-83a5-0459f2ea50f1",
        "colab": {
          "base_uri": "https://localhost:8080/",
          "height": 204
        }
      },
      "source": [
        "df.head()"
      ],
      "execution_count": 0,
      "outputs": [
        {
          "output_type": "execute_result",
          "data": {
            "text/html": [
              "<div>\n",
              "<style scoped>\n",
              "    .dataframe tbody tr th:only-of-type {\n",
              "        vertical-align: middle;\n",
              "    }\n",
              "\n",
              "    .dataframe tbody tr th {\n",
              "        vertical-align: top;\n",
              "    }\n",
              "\n",
              "    .dataframe thead th {\n",
              "        text-align: right;\n",
              "    }\n",
              "</style>\n",
              "<table border=\"1\" class=\"dataframe\">\n",
              "  <thead>\n",
              "    <tr style=\"text-align: right;\">\n",
              "      <th></th>\n",
              "      <th>center</th>\n",
              "      <th>id</th>\n",
              "      <th>lat</th>\n",
              "      <th>lon</th>\n",
              "      <th>members</th>\n",
              "      <th>nodes</th>\n",
              "      <th>tags</th>\n",
              "      <th>type</th>\n",
              "    </tr>\n",
              "  </thead>\n",
              "  <tbody>\n",
              "    <tr>\n",
              "      <th>0</th>\n",
              "      <td>NaN</td>\n",
              "      <td>501170977</td>\n",
              "      <td>-5.869024</td>\n",
              "      <td>-35.234268</td>\n",
              "      <td>NaN</td>\n",
              "      <td>NaN</td>\n",
              "      <td>{'amenity': 'school'}</td>\n",
              "      <td>node</td>\n",
              "    </tr>\n",
              "    <tr>\n",
              "      <th>1</th>\n",
              "      <td>NaN</td>\n",
              "      <td>501170997</td>\n",
              "      <td>-5.823610</td>\n",
              "      <td>-35.222611</td>\n",
              "      <td>NaN</td>\n",
              "      <td>NaN</td>\n",
              "      <td>{'amenity': 'school', 'name': 'Centro de Atenç...</td>\n",
              "      <td>node</td>\n",
              "    </tr>\n",
              "    <tr>\n",
              "      <th>2</th>\n",
              "      <td>NaN</td>\n",
              "      <td>501171016</td>\n",
              "      <td>-5.871019</td>\n",
              "      <td>-35.221614</td>\n",
              "      <td>NaN</td>\n",
              "      <td>NaN</td>\n",
              "      <td>{'amenity': 'school', 'name': 'Piaget'}</td>\n",
              "      <td>node</td>\n",
              "    </tr>\n",
              "    <tr>\n",
              "      <th>3</th>\n",
              "      <td>NaN</td>\n",
              "      <td>501619315</td>\n",
              "      <td>-5.816246</td>\n",
              "      <td>-35.204844</td>\n",
              "      <td>NaN</td>\n",
              "      <td>NaN</td>\n",
              "      <td>{'amenity': 'hospital', 'name': 'Hospital da U...</td>\n",
              "      <td>node</td>\n",
              "    </tr>\n",
              "    <tr>\n",
              "      <th>4</th>\n",
              "      <td>NaN</td>\n",
              "      <td>501784871</td>\n",
              "      <td>-5.812943</td>\n",
              "      <td>-35.210726</td>\n",
              "      <td>NaN</td>\n",
              "      <td>NaN</td>\n",
              "      <td>{'amenity': 'school'}</td>\n",
              "      <td>node</td>\n",
              "    </tr>\n",
              "  </tbody>\n",
              "</table>\n",
              "</div>"
            ],
            "text/plain": [
              "  center         id       lat        lon members nodes  \\\n",
              "0    NaN  501170977 -5.869024 -35.234268     NaN   NaN   \n",
              "1    NaN  501170997 -5.823610 -35.222611     NaN   NaN   \n",
              "2    NaN  501171016 -5.871019 -35.221614     NaN   NaN   \n",
              "3    NaN  501619315 -5.816246 -35.204844     NaN   NaN   \n",
              "4    NaN  501784871 -5.812943 -35.210726     NaN   NaN   \n",
              "\n",
              "                                                tags  type  \n",
              "0                              {'amenity': 'school'}  node  \n",
              "1  {'amenity': 'school', 'name': 'Centro de Atenç...  node  \n",
              "2            {'amenity': 'school', 'name': 'Piaget'}  node  \n",
              "3  {'amenity': 'hospital', 'name': 'Hospital da U...  node  \n",
              "4                              {'amenity': 'school'}  node  "
            ]
          },
          "metadata": {
            "tags": []
          },
          "execution_count": 4
        }
      ]
    },
    {
      "cell_type": "code",
      "metadata": {
        "id": "K8p4X8EDRnfG",
        "colab_type": "code",
        "outputId": "a9da583c-112c-40d5-f94b-17cf02a8f3ba",
        "colab": {
          "base_uri": "https://localhost:8080/",
          "height": 238
        }
      },
      "source": [
        "df.info()"
      ],
      "execution_count": 0,
      "outputs": [
        {
          "output_type": "stream",
          "text": [
            "<class 'pandas.core.frame.DataFrame'>\n",
            "RangeIndex: 2770 entries, 0 to 2769\n",
            "Data columns (total 8 columns):\n",
            "center     407 non-null object\n",
            "id         2770 non-null int64\n",
            "lat        2327 non-null float64\n",
            "lon        2327 non-null float64\n",
            "members    36 non-null object\n",
            "nodes      407 non-null object\n",
            "tags       499 non-null object\n",
            "type       2770 non-null object\n",
            "dtypes: float64(2), int64(1), object(5)\n",
            "memory usage: 173.2+ KB\n"
          ],
          "name": "stdout"
        }
      ]
    },
    {
      "cell_type": "code",
      "metadata": {
        "id": "RFuyi7JSRp4B",
        "colab_type": "code",
        "outputId": "63c862ba-3863-42ba-e172-d02d3729940c",
        "colab": {
          "base_uri": "https://localhost:8080/",
          "height": 1071
        }
      },
      "source": [
        "df['tags']"
      ],
      "execution_count": 0,
      "outputs": [
        {
          "output_type": "execute_result",
          "data": {
            "text/plain": [
              "0                                   {'amenity': 'school'}\n",
              "1       {'amenity': 'school', 'name': 'Centro de Atenç...\n",
              "2                 {'amenity': 'school', 'name': 'Piaget'}\n",
              "3       {'amenity': 'hospital', 'name': 'Hospital da U...\n",
              "4                                   {'amenity': 'school'}\n",
              "5       {'amenity': 'school', 'name': 'Escola Boa Ideia'}\n",
              "6                                 {'amenity': 'hospital'}\n",
              "7                                   {'amenity': 'school'}\n",
              "8             {'amenity': 'school', 'name': 'SEST/SENAT'}\n",
              "9                                   {'amenity': 'school'}\n",
              "10                                  {'amenity': 'school'}\n",
              "11                   {'amenity': 'school', 'name': 'CEI'}\n",
              "12      {'amenity': 'hospital', 'name': 'UMS Cidade Sa...\n",
              "13                                  {'amenity': 'school'}\n",
              "14         {'amenity': 'school', 'name': 'Contemporâneo'}\n",
              "15                                  {'amenity': 'school'}\n",
              "16      {'addr:city': 'Natal - RN', 'addr:housenumber'...\n",
              "17      {'addr:city': 'Natal - RN', 'addr:housenumber'...\n",
              "18                                  {'amenity': 'school'}\n",
              "19      {'amenity': 'school', 'name': 'Wizard', 'sourc...\n",
              "20      {'amenity': 'school', 'name': 'Prepara Cursos ...\n",
              "21      {'amenity': 'school', 'name': 'Escola Estadual...\n",
              "22                  {'amenity': 'school', 'name': 'Call'}\n",
              "23       {'amenity': 'school', 'name': 'Reforço Escolar'}\n",
              "24      {'amenity': 'hospital', 'name': 'SESI Clínica'...\n",
              "25      {'amenity': 'school', 'name': 'Watford', 'sour...\n",
              "26      {'alt_name': 'CEU', 'amenity': 'school', 'name...\n",
              "27                                  {'amenity': 'school'}\n",
              "28      {'amenity': 'school', 'name': 'Auto Escola Pru...\n",
              "29                {'amenity': 'hospital', 'name': 'PAPI'}\n",
              "                              ...                        \n",
              "2740    {'highway': 'secondary', 'name': 'Rua São João...\n",
              "2741    {'highway': 'secondary', 'name': 'Rua São João...\n",
              "2742    {'highway': 'secondary', 'name': 'Rua Mossoró'...\n",
              "2743                                                  NaN\n",
              "2744    {'highway': 'secondary', 'name': 'Avenida Câma...\n",
              "2745    {'highway': 'secondary', 'name': 'Rua Mossoró'...\n",
              "2746    {'highway': 'primary', 'name': 'Avenida Ayrton...\n",
              "2747    {'highway': 'primary', 'lanes': '2', 'name': '...\n",
              "2748                                                  NaN\n",
              "2749    {'electrified': 'no', 'gauge': '1000', 'name':...\n",
              "2750    {'electrified': 'no', 'gauge': '1000', 'name':...\n",
              "2751                                                  NaN\n",
              "2752                                                  NaN\n",
              "2753    {'electrified': 'no', 'gauge': '1000', 'name':...\n",
              "2754    {'highway': 'residential', 'name': 'Rua dos Po...\n",
              "2755    {'highway': 'residential', 'name': 'Rua dos Po...\n",
              "2756                                                  NaN\n",
              "2757    {'electrified': 'no', 'gauge': '1000', 'name':...\n",
              "2758    {'highway': 'tertiary', 'name': 'Avenida Abreu...\n",
              "2759                                                  NaN\n",
              "2760    {'electrified': 'no', 'gauge': '1000', 'name':...\n",
              "2761    {'electrified': 'no', 'gauge': '1000', 'name':...\n",
              "2762    {'highway': 'residential', 'name': 'Rua Peixe ...\n",
              "2763                                                  NaN\n",
              "2764    {'electrified': 'no', 'gauge': '1000', 'name':...\n",
              "2765    {'layer': '-1', 'name': 'Rio Pitimbu', 'tunnel...\n",
              "2766    {'highway': 'secondary', 'name': 'Avenida Port...\n",
              "2767    {'electrified': 'no', 'gauge': '1000', 'name':...\n",
              "2768    {'electrified': 'no', 'gauge': '1000', 'name':...\n",
              "2769    {'layer': '-1', 'name': 'Rio Doce', 'tag': 'tu...\n",
              "Name: tags, Length: 2770, dtype: object"
            ]
          },
          "metadata": {
            "tags": []
          },
          "execution_count": 6
        }
      ]
    },
    {
      "cell_type": "code",
      "metadata": {
        "id": "lsDl-3RYhtEs",
        "colab_type": "code",
        "colab": {}
      },
      "source": [
        "def get_amenity(row):\n",
        "  try:\n",
        "    amenity = row['amenity']\n",
        "    return amenity\n",
        "  except:\n",
        "    return np.nan\n",
        "  \n",
        "def get_name(row):\n",
        "  try:\n",
        "    name = row['name']\n",
        "    return name\n",
        "  except:\n",
        "    return np.nan"
      ],
      "execution_count": 0,
      "outputs": []
    },
    {
      "cell_type": "code",
      "metadata": {
        "id": "iTo39NRIRhmC",
        "colab_type": "code",
        "colab": {}
      },
      "source": [
        "df['amenity'] = df.tags.apply(get_amenity)\n",
        "df['name'] = df.tags.apply(get_name)"
      ],
      "execution_count": 0,
      "outputs": []
    },
    {
      "cell_type": "code",
      "metadata": {
        "id": "mGsK4wUEXzLc",
        "colab_type": "code",
        "outputId": "322f7262-59e3-4e48-f652-db504b80daf8",
        "colab": {
          "base_uri": "https://localhost:8080/",
          "height": 34
        }
      },
      "source": [
        "df['amenity'].unique()"
      ],
      "execution_count": 0,
      "outputs": [
        {
          "output_type": "execute_result",
          "data": {
            "text/plain": [
              "array(['school', 'hospital', nan, 'bench'], dtype=object)"
            ]
          },
          "metadata": {
            "tags": []
          },
          "execution_count": 10
        }
      ]
    },
    {
      "cell_type": "code",
      "metadata": {
        "id": "5CfTEbIPh8xG",
        "colab_type": "code",
        "outputId": "529bd900-1dd2-4d34-d86b-47f26d571255",
        "colab": {
          "base_uri": "https://localhost:8080/",
          "height": 204
        }
      },
      "source": [
        "df.head()"
      ],
      "execution_count": 0,
      "outputs": [
        {
          "output_type": "execute_result",
          "data": {
            "text/html": [
              "<div>\n",
              "<style scoped>\n",
              "    .dataframe tbody tr th:only-of-type {\n",
              "        vertical-align: middle;\n",
              "    }\n",
              "\n",
              "    .dataframe tbody tr th {\n",
              "        vertical-align: top;\n",
              "    }\n",
              "\n",
              "    .dataframe thead th {\n",
              "        text-align: right;\n",
              "    }\n",
              "</style>\n",
              "<table border=\"1\" class=\"dataframe\">\n",
              "  <thead>\n",
              "    <tr style=\"text-align: right;\">\n",
              "      <th></th>\n",
              "      <th>center</th>\n",
              "      <th>id</th>\n",
              "      <th>lat</th>\n",
              "      <th>lon</th>\n",
              "      <th>members</th>\n",
              "      <th>nodes</th>\n",
              "      <th>tags</th>\n",
              "      <th>type</th>\n",
              "      <th>amenity</th>\n",
              "      <th>name</th>\n",
              "    </tr>\n",
              "  </thead>\n",
              "  <tbody>\n",
              "    <tr>\n",
              "      <th>0</th>\n",
              "      <td>NaN</td>\n",
              "      <td>501170977</td>\n",
              "      <td>-5.869024</td>\n",
              "      <td>-35.234268</td>\n",
              "      <td>NaN</td>\n",
              "      <td>NaN</td>\n",
              "      <td>{'amenity': 'school'}</td>\n",
              "      <td>node</td>\n",
              "      <td>school</td>\n",
              "      <td>NaN</td>\n",
              "    </tr>\n",
              "    <tr>\n",
              "      <th>1</th>\n",
              "      <td>NaN</td>\n",
              "      <td>501170997</td>\n",
              "      <td>-5.823610</td>\n",
              "      <td>-35.222611</td>\n",
              "      <td>NaN</td>\n",
              "      <td>NaN</td>\n",
              "      <td>{'amenity': 'school', 'name': 'Centro de Atenç...</td>\n",
              "      <td>node</td>\n",
              "      <td>school</td>\n",
              "      <td>Centro de Atenção Integral a Criança e ao Adol...</td>\n",
              "    </tr>\n",
              "    <tr>\n",
              "      <th>2</th>\n",
              "      <td>NaN</td>\n",
              "      <td>501171016</td>\n",
              "      <td>-5.871019</td>\n",
              "      <td>-35.221614</td>\n",
              "      <td>NaN</td>\n",
              "      <td>NaN</td>\n",
              "      <td>{'amenity': 'school', 'name': 'Piaget'}</td>\n",
              "      <td>node</td>\n",
              "      <td>school</td>\n",
              "      <td>Piaget</td>\n",
              "    </tr>\n",
              "    <tr>\n",
              "      <th>3</th>\n",
              "      <td>NaN</td>\n",
              "      <td>501619315</td>\n",
              "      <td>-5.816246</td>\n",
              "      <td>-35.204844</td>\n",
              "      <td>NaN</td>\n",
              "      <td>NaN</td>\n",
              "      <td>{'amenity': 'hospital', 'name': 'Hospital da U...</td>\n",
              "      <td>node</td>\n",
              "      <td>hospital</td>\n",
              "      <td>Hospital da UNIMED</td>\n",
              "    </tr>\n",
              "    <tr>\n",
              "      <th>4</th>\n",
              "      <td>NaN</td>\n",
              "      <td>501784871</td>\n",
              "      <td>-5.812943</td>\n",
              "      <td>-35.210726</td>\n",
              "      <td>NaN</td>\n",
              "      <td>NaN</td>\n",
              "      <td>{'amenity': 'school'}</td>\n",
              "      <td>node</td>\n",
              "      <td>school</td>\n",
              "      <td>NaN</td>\n",
              "    </tr>\n",
              "  </tbody>\n",
              "</table>\n",
              "</div>"
            ],
            "text/plain": [
              "  center         id       lat        lon members nodes  \\\n",
              "0    NaN  501170977 -5.869024 -35.234268     NaN   NaN   \n",
              "1    NaN  501170997 -5.823610 -35.222611     NaN   NaN   \n",
              "2    NaN  501171016 -5.871019 -35.221614     NaN   NaN   \n",
              "3    NaN  501619315 -5.816246 -35.204844     NaN   NaN   \n",
              "4    NaN  501784871 -5.812943 -35.210726     NaN   NaN   \n",
              "\n",
              "                                                tags  type   amenity  \\\n",
              "0                              {'amenity': 'school'}  node    school   \n",
              "1  {'amenity': 'school', 'name': 'Centro de Atenç...  node    school   \n",
              "2            {'amenity': 'school', 'name': 'Piaget'}  node    school   \n",
              "3  {'amenity': 'hospital', 'name': 'Hospital da U...  node  hospital   \n",
              "4                              {'amenity': 'school'}  node    school   \n",
              "\n",
              "                                                name  \n",
              "0                                                NaN  \n",
              "1  Centro de Atenção Integral a Criança e ao Adol...  \n",
              "2                                             Piaget  \n",
              "3                                 Hospital da UNIMED  \n",
              "4                                                NaN  "
            ]
          },
          "metadata": {
            "tags": []
          },
          "execution_count": 11
        }
      ]
    },
    {
      "cell_type": "code",
      "metadata": {
        "id": "W1GGJzsFiMLP",
        "colab_type": "code",
        "colab": {}
      },
      "source": [
        "# load the GeoJSON data and use 'UTF-8'encoding\n",
        "geo_json_natal = json.load(open('natal.geojson'))"
      ],
      "execution_count": 0,
      "outputs": []
    }
  ]
}