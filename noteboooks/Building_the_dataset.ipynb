{
  "nbformat": 4,
  "nbformat_minor": 0,
  "metadata": {
    "colab": {
      "name": "Building the dataset.ipynb",
      "version": "0.3.2",
      "provenance": [],
      "toc_visible": true
    },
    "kernelspec": {
      "name": "python3",
      "display_name": "Python 3"
    }
  },
  "cells": [
    {
      "cell_type": "markdown",
      "metadata": {
        "id": "2qw40Z36YRlQ",
        "colab_type": "text"
      },
      "source": [
        "Authors: Luís Eduardo Anunciado Silva, Mayra Dantas de Azevedo\n",
        "\n",
        "\n",
        "\n",
        "---\n",
        "\n"
      ]
    },
    {
      "cell_type": "code",
      "metadata": {
        "id": "pX5QMb7Icuy1",
        "colab_type": "code",
        "outputId": "0187941c-f632-4c70-d9d3-5e79ec40aebe",
        "colab": {
          "base_uri": "https://localhost:8080/",
          "height": 615
        }
      },
      "source": [
        "!pip install unidecode\n",
        "!pip install geopandas\n"
      ],
      "execution_count": 0,
      "outputs": [
        {
          "output_type": "stream",
          "text": [
            "Collecting unidecode\n",
            "\u001b[?25l  Downloading https://files.pythonhosted.org/packages/31/39/53096f9217b057cb049fe872b7fc7ce799a1a89b76cf917d9639e7a558b5/Unidecode-1.0.23-py2.py3-none-any.whl (237kB)\n",
            "\u001b[K     |████████████████████████████████| 245kB 2.8MB/s \n",
            "\u001b[?25hInstalling collected packages: unidecode\n",
            "Successfully installed unidecode-1.0.23\n",
            "Collecting geopandas\n",
            "\u001b[?25l  Downloading https://files.pythonhosted.org/packages/74/42/f4b147fc7920998a42046d0c2e65e61000bc5d104f1f8aec719612cb2fc8/geopandas-0.5.0-py2.py3-none-any.whl (893kB)\n",
            "\u001b[K     |████████████████████████████████| 901kB 2.8MB/s \n",
            "\u001b[?25hCollecting fiona (from geopandas)\n",
            "\u001b[?25l  Downloading https://files.pythonhosted.org/packages/89/4a/193cd6a75e51062c85f4e1cd6f312b3bbda6e26ba7510f152ef5016f0b16/Fiona-1.8.6-cp36-cp36m-manylinux1_x86_64.whl (17.9MB)\n",
            "\u001b[K     |████████████████████████████████| 17.9MB 37.4MB/s \n",
            "\u001b[?25hRequirement already satisfied: shapely in /usr/local/lib/python3.6/dist-packages (from geopandas) (1.6.4.post2)\n",
            "Collecting pyproj (from geopandas)\n",
            "\u001b[?25l  Downloading https://files.pythonhosted.org/packages/ab/c8/090cd8eae755171959fac28d4bd537cc2caf168caadb92d8e505229c486b/pyproj-2.1.3-cp36-cp36m-manylinux1_x86_64.whl (10.8MB)\n",
            "\u001b[K     |████████████████████████████████| 10.8MB 41.3MB/s \n",
            "\u001b[?25hRequirement already satisfied: pandas in /usr/local/lib/python3.6/dist-packages (from geopandas) (0.24.2)\n",
            "Requirement already satisfied: click<8,>=4.0 in /usr/local/lib/python3.6/dist-packages (from fiona->geopandas) (7.0)\n",
            "Collecting click-plugins>=1.0 (from fiona->geopandas)\n",
            "  Downloading https://files.pythonhosted.org/packages/e9/da/824b92d9942f4e472702488857914bdd50f73021efea15b4cad9aca8ecef/click_plugins-1.1.1-py2.py3-none-any.whl\n",
            "Requirement already satisfied: attrs>=17 in /usr/local/lib/python3.6/dist-packages (from fiona->geopandas) (19.1.0)\n",
            "Requirement already satisfied: six>=1.7 in /usr/local/lib/python3.6/dist-packages (from fiona->geopandas) (1.12.0)\n",
            "Collecting munch (from fiona->geopandas)\n",
            "  Downloading https://files.pythonhosted.org/packages/68/f4/260ec98ea840757a0da09e0ed8135333d59b8dfebe9752a365b04857660a/munch-2.3.2.tar.gz\n",
            "Collecting cligj>=0.5 (from fiona->geopandas)\n",
            "  Downloading https://files.pythonhosted.org/packages/e4/be/30a58b4b0733850280d01f8bd132591b4668ed5c7046761098d665ac2174/cligj-0.5.0-py3-none-any.whl\n",
            "Requirement already satisfied: pytz>=2011k in /usr/local/lib/python3.6/dist-packages (from pandas->geopandas) (2018.9)\n",
            "Requirement already satisfied: python-dateutil>=2.5.0 in /usr/local/lib/python3.6/dist-packages (from pandas->geopandas) (2.5.3)\n",
            "Requirement already satisfied: numpy>=1.12.0 in /usr/local/lib/python3.6/dist-packages (from pandas->geopandas) (1.16.3)\n",
            "Building wheels for collected packages: munch\n",
            "  Building wheel for munch (setup.py) ... \u001b[?25l\u001b[?25hdone\n",
            "  Stored in directory: /root/.cache/pip/wheels/db/bf/bc/06a3e1bfe0ab27d2e720ceb3cff3159398d92644c0cec2c125\n",
            "Successfully built munch\n",
            "Installing collected packages: click-plugins, munch, cligj, fiona, pyproj, geopandas\n",
            "Successfully installed click-plugins-1.1.1 cligj-0.5.0 fiona-1.8.6 geopandas-0.5.0 munch-2.3.2 pyproj-2.1.3\n"
          ],
          "name": "stdout"
        }
      ]
    },
    {
      "cell_type": "code",
      "metadata": {
        "id": "UCoHfo0OOinD",
        "colab_type": "code",
        "colab": {}
      },
      "source": [
        "import requests\n",
        "import json\n",
        "\n",
        "import pandas as pd\n",
        "import numpy as np\n",
        "\n",
        "import geopandas as gpd\n",
        "from shapely.geometry import Point\n",
        "from shapely.geometry.polygon import Polygon\n",
        "import unidecode"
      ],
      "execution_count": 0,
      "outputs": []
    },
    {
      "cell_type": "markdown",
      "metadata": {
        "id": "z6rESyi_r-o7",
        "colab_type": "text"
      },
      "source": [
        "## Recovering data about indicators from the API\n",
        "\n",
        "In this section, we use the [Sidra API](http://api.sidra.ibge.gov.br) to recover the neighborhoods, as well as some informations about the average income and other indicators."
      ]
    },
    {
      "cell_type": "code",
      "metadata": {
        "id": "aIYP2WaIsBrD",
        "colab_type": "code",
        "colab": {}
      },
      "source": [
        "# income by neighborhood in Natal (2010)\n",
        "# from Sidra's Table 3170 (http://api.sidra.ibge.gov.br/desctabapi.aspx?c=3170)\n",
        "headers = {\n",
        "    'Content-Type': 'application/json;charset=UTF-8',\n",
        "    'User-Agent': 'google-colab',\n",
        "    'Accept': 'application/json, text/plain, */*',\n",
        "    'Accept-Encoding': 'gzip, deflate, br',\n",
        "    'Accept-Language': 'pt-BR,pt;q=0.9,en-US;q=0.8,en;q=0.7',\n",
        "    'Connection': 'keep-alive',\n",
        "}\n",
        "\n",
        "\n",
        "endnode = \"http://api.sidra.ibge.gov.br/values/t/3170/p/2010/v/842/N102/in%20n6%202408102\"\n",
        "\n",
        "response = requests.get(endnode,headers=headers)\n",
        "\n",
        "# for curiosity, take a look in this variable\n",
        "raw_data_income = response.json()\n"
      ],
      "execution_count": 0,
      "outputs": []
    },
    {
      "cell_type": "markdown",
      "metadata": {
        "id": "b-NpJj9ZAYcH",
        "colab_type": "text"
      },
      "source": [
        "The variable 842 gave us the information about the income, now with the variable 841 we get the population of each neighborhood."
      ]
    },
    {
      "cell_type": "code",
      "metadata": {
        "id": "xwUn3Q2GyN3y",
        "colab_type": "code",
        "colab": {}
      },
      "source": [
        "# Recover the number of inhabitants\n",
        "endnode_people = \"http://api.sidra.ibge.gov.br/values/t/3170/p/2010/v/841/N102/in%20n6%202408102\"\n",
        "\n",
        "response = requests.get(endnode_people,headers=headers)\n",
        "\n",
        "# for curiosity, take a look in this variable\n",
        "raw_data_people = response.json()"
      ],
      "execution_count": 0,
      "outputs": []
    },
    {
      "cell_type": "code",
      "metadata": {
        "id": "BMFOey8QsK4c",
        "colab_type": "code",
        "outputId": "62c9d949-4e4f-4fed-fc83-e78c48171893",
        "colab": {
          "base_uri": "https://localhost:8080/",
          "height": 272
        }
      },
      "source": [
        "# Show the code of each column as well as \n",
        "# its name\n",
        "raw_data_income[0]"
      ],
      "execution_count": 0,
      "outputs": [
        {
          "output_type": "execute_result",
          "data": {
            "text/plain": [
              "{'D1C': 'Ano (Código)',\n",
              " 'D1N': 'Ano',\n",
              " 'D2C': 'Variável (Código)',\n",
              " 'D2N': 'Variável',\n",
              " 'D3C': 'Bairro (Código)',\n",
              " 'D3N': 'Bairro',\n",
              " 'D4C': 'Situação do domicílio (Código)',\n",
              " 'D4N': 'Situação do domicílio',\n",
              " 'D5C': 'Sexo (Código)',\n",
              " 'D5N': 'Sexo',\n",
              " 'D6C': 'Grupo de idade (Código)',\n",
              " 'D6N': 'Grupo de idade',\n",
              " 'MC': 'Unidade de Medida (Código)',\n",
              " 'MN': 'Unidade de Medida',\n",
              " 'V': 'Valor'}"
            ]
          },
          "metadata": {
            "tags": []
          },
          "execution_count": 5
        }
      ]
    },
    {
      "cell_type": "code",
      "metadata": {
        "id": "4PQRVZgVyfCS",
        "colab_type": "code",
        "colab": {}
      },
      "source": [
        "income_df = pd.DataFrame(raw_data_income, columns=['D3C', 'D3N', 'V'])\n",
        "income_df.drop(labels=0, inplace=True)"
      ],
      "execution_count": 0,
      "outputs": []
    },
    {
      "cell_type": "code",
      "metadata": {
        "id": "IhKvQnZiyv8n",
        "colab_type": "code",
        "colab": {}
      },
      "source": [
        "people_df = pd.DataFrame(raw_data_people, columns=['D3C', 'V'])\n",
        "people_df.drop(labels=0, inplace=True)"
      ],
      "execution_count": 0,
      "outputs": []
    },
    {
      "cell_type": "markdown",
      "metadata": {
        "id": "DuH6g4iUAluk",
        "colab_type": "text"
      },
      "source": [
        "Now we need to combine these variables and rename the columns."
      ]
    },
    {
      "cell_type": "code",
      "metadata": {
        "id": "BgsGGKP6aOJu",
        "colab_type": "code",
        "colab": {}
      },
      "source": [
        "neighborhood_df = income_df.merge(people_df, on='D3C')"
      ],
      "execution_count": 0,
      "outputs": []
    },
    {
      "cell_type": "code",
      "metadata": {
        "id": "qP9zBsLCtKSQ",
        "colab_type": "code",
        "outputId": "3e517836-9dc0-4f06-a7dc-10ac726dd4d2",
        "colab": {
          "base_uri": "https://localhost:8080/",
          "height": 204
        }
      },
      "source": [
        "neighborhood_df.head()"
      ],
      "execution_count": 0,
      "outputs": [
        {
          "output_type": "execute_result",
          "data": {
            "text/html": [
              "<div>\n",
              "<style scoped>\n",
              "    .dataframe tbody tr th:only-of-type {\n",
              "        vertical-align: middle;\n",
              "    }\n",
              "\n",
              "    .dataframe tbody tr th {\n",
              "        vertical-align: top;\n",
              "    }\n",
              "\n",
              "    .dataframe thead th {\n",
              "        text-align: right;\n",
              "    }\n",
              "</style>\n",
              "<table border=\"1\" class=\"dataframe\">\n",
              "  <thead>\n",
              "    <tr style=\"text-align: right;\">\n",
              "      <th></th>\n",
              "      <th>D3C</th>\n",
              "      <th>D3N</th>\n",
              "      <th>V_x</th>\n",
              "      <th>V_y</th>\n",
              "    </tr>\n",
              "  </thead>\n",
              "  <tbody>\n",
              "    <tr>\n",
              "      <th>0</th>\n",
              "      <td>2408102001</td>\n",
              "      <td>Santos Reis - Natal - RN</td>\n",
              "      <td>984.31</td>\n",
              "      <td>2989</td>\n",
              "    </tr>\n",
              "    <tr>\n",
              "      <th>1</th>\n",
              "      <td>2408102002</td>\n",
              "      <td>Praia do Meio - Natal - RN</td>\n",
              "      <td>1658.16</td>\n",
              "      <td>2810</td>\n",
              "    </tr>\n",
              "    <tr>\n",
              "      <th>2</th>\n",
              "      <td>2408102003</td>\n",
              "      <td>Rocas - Natal - RN</td>\n",
              "      <td>969.39</td>\n",
              "      <td>5806</td>\n",
              "    </tr>\n",
              "    <tr>\n",
              "      <th>3</th>\n",
              "      <td>2408102004</td>\n",
              "      <td>Ribeira - Natal - RN</td>\n",
              "      <td>2825.82</td>\n",
              "      <td>1453</td>\n",
              "    </tr>\n",
              "    <tr>\n",
              "      <th>4</th>\n",
              "      <td>2408102005</td>\n",
              "      <td>Petrópolis - Natal - RN</td>\n",
              "      <td>4736.63</td>\n",
              "      <td>3288</td>\n",
              "    </tr>\n",
              "  </tbody>\n",
              "</table>\n",
              "</div>"
            ],
            "text/plain": [
              "          D3C                         D3N      V_x   V_y\n",
              "0  2408102001    Santos Reis - Natal - RN   984.31  2989\n",
              "1  2408102002  Praia do Meio - Natal - RN  1658.16  2810\n",
              "2  2408102003          Rocas - Natal - RN   969.39  5806\n",
              "3  2408102004        Ribeira - Natal - RN  2825.82  1453\n",
              "4  2408102005     Petrópolis - Natal - RN  4736.63  3288"
            ]
          },
          "metadata": {
            "tags": []
          },
          "execution_count": 9
        }
      ]
    },
    {
      "cell_type": "code",
      "metadata": {
        "id": "l2dHqVv3pni2",
        "colab_type": "code",
        "colab": {}
      },
      "source": [
        "new_columns = {'V_x':'income', 'D3C':'id', 'D3N':'name', 'V_y':'inhabitants'}\n",
        "\n",
        "neighborhood_df.rename(columns=new_columns, inplace=True)"
      ],
      "execution_count": 0,
      "outputs": []
    },
    {
      "cell_type": "code",
      "metadata": {
        "id": "nd0jSyp9spjq",
        "colab_type": "code",
        "colab": {}
      },
      "source": [
        "neighborhood_df['name'] = neighborhood_df.name.str.split(pat=' - ', n=1, expand=True)[0]"
      ],
      "execution_count": 0,
      "outputs": []
    },
    {
      "cell_type": "markdown",
      "metadata": {
        "id": "IeUe9NCLACfc",
        "colab_type": "text"
      },
      "source": [
        "We choose to remove any symbols from the name in order to facilitate the match with the names from the geojson, which will be done at the next section"
      ]
    },
    {
      "cell_type": "code",
      "metadata": {
        "id": "3CS6FyVes08W",
        "colab_type": "code",
        "colab": {}
      },
      "source": [
        "neighborhood_df['name_norm'] = neighborhood_df.name.apply(lambda x:unidecode.unidecode(x))"
      ],
      "execution_count": 0,
      "outputs": []
    },
    {
      "cell_type": "code",
      "metadata": {
        "id": "NbqgdTZ-qUrf",
        "colab_type": "code",
        "outputId": "e6d2a12a-9d37-4e23-9df6-bc6b82c80dee",
        "colab": {
          "base_uri": "https://localhost:8080/",
          "height": 170
        }
      },
      "source": [
        "neighborhood_df.name.unique()"
      ],
      "execution_count": 0,
      "outputs": [
        {
          "output_type": "execute_result",
          "data": {
            "text/plain": [
              "array(['Santos Reis', 'Praia do Meio', 'Rocas', 'Ribeira', 'Petrópolis',\n",
              "       'Areia Preta', 'Mãe Luíza', 'Tirol', 'Cidade Alta', 'Lagoa Seca',\n",
              "       'Alecrim', 'Quintas', 'Nordeste', 'Bom Pastor',\n",
              "       'Cidade da Esperança', 'Dix-Sept Rosado', 'Lagoa Nova',\n",
              "       'Nova Descoberta', 'Candelária', 'Cidade Nova', 'Filipe Camarão',\n",
              "       'Guarapés', 'Pitimbú', 'Neópolis', 'Capim Macio', 'Ponta Negra',\n",
              "       'Igapó', 'Nossa Senhora da Apresentação', 'Potengi', 'Salinas',\n",
              "       'Lagoa Azul', 'Pajuçara', 'Redinha', 'Barro Vermelho',\n",
              "       'Nossa Senhora de Nazaré', 'Planalto'], dtype=object)"
            ]
          },
          "metadata": {
            "tags": []
          },
          "execution_count": 13
        }
      ]
    },
    {
      "cell_type": "code",
      "metadata": {
        "id": "nxCOhvwoZuvj",
        "colab_type": "code",
        "outputId": "7e5c4c90-2e6b-4378-e6e4-06aa306426fc",
        "colab": {
          "base_uri": "https://localhost:8080/",
          "height": 80
        }
      },
      "source": [
        "neighborhood_df.query(\"name == 'Pitimbú' \")"
      ],
      "execution_count": 0,
      "outputs": [
        {
          "output_type": "execute_result",
          "data": {
            "text/html": [
              "<div>\n",
              "<style scoped>\n",
              "    .dataframe tbody tr th:only-of-type {\n",
              "        vertical-align: middle;\n",
              "    }\n",
              "\n",
              "    .dataframe tbody tr th {\n",
              "        vertical-align: top;\n",
              "    }\n",
              "\n",
              "    .dataframe thead th {\n",
              "        text-align: right;\n",
              "    }\n",
              "</style>\n",
              "<table border=\"1\" class=\"dataframe\">\n",
              "  <thead>\n",
              "    <tr style=\"text-align: right;\">\n",
              "      <th></th>\n",
              "      <th>id</th>\n",
              "      <th>name</th>\n",
              "      <th>income</th>\n",
              "      <th>inhabitants</th>\n",
              "      <th>name_norm</th>\n",
              "    </tr>\n",
              "  </thead>\n",
              "  <tbody>\n",
              "    <tr>\n",
              "      <th>22</th>\n",
              "      <td>2408102023</td>\n",
              "      <td>Pitimbú</td>\n",
              "      <td>2014.20</td>\n",
              "      <td>15049</td>\n",
              "      <td>Pitimbu</td>\n",
              "    </tr>\n",
              "  </tbody>\n",
              "</table>\n",
              "</div>"
            ],
            "text/plain": [
              "            id     name   income inhabitants name_norm\n",
              "22  2408102023  Pitimbú  2014.20       15049   Pitimbu"
            ]
          },
          "metadata": {
            "tags": []
          },
          "execution_count": 14
        }
      ]
    },
    {
      "cell_type": "markdown",
      "metadata": {
        "colab_type": "text",
        "id": "jQWZW0pCVnd_"
      },
      "source": [
        "## Retrieving the centroid of each neighborhood\n",
        "\n",
        "In this section, we use the geojson from Natal to discover the centroid of each polygon that describes a neighborhood. This will be used to calculate the distance between the center of a neighboorhod and any category of point of interest (school, hospital, bank...)"
      ]
    },
    {
      "cell_type": "code",
      "metadata": {
        "colab_type": "code",
        "id": "K2DFxiWqVneP",
        "colab": {}
      },
      "source": [
        "# load the GeoJSON data and use 'UTF-8'encoding\n",
        "geojson_natal_file = requests.get('https://github.com/nymarya/data-science-one/blob/master/Lesson%2314/natal.geojson?raw=true')\n",
        "geo_json_natal = geojson_natal_file.json()"
      ],
      "execution_count": 0,
      "outputs": []
    },
    {
      "cell_type": "markdown",
      "metadata": {
        "colab_type": "text",
        "id": "CPvTRSRIVnfZ"
      },
      "source": [
        "The [geopandas](http://geopandas.org/) module will help us to recover the polygon that describes the boundaries of each area."
      ]
    },
    {
      "cell_type": "code",
      "metadata": {
        "id": "9Q7Zbargid0g",
        "colab_type": "code",
        "colab": {}
      },
      "source": [
        "with open('natal.geojson', 'w') as outfile:  \n",
        "    json.dump(geo_json_natal, outfile)"
      ],
      "execution_count": 0,
      "outputs": []
    },
    {
      "cell_type": "code",
      "metadata": {
        "id": "J2JhCIw_hbqr",
        "colab_type": "code",
        "colab": {}
      },
      "source": [
        "geojson_df = gpd.read_file(\"natal.geojson\")"
      ],
      "execution_count": 0,
      "outputs": []
    },
    {
      "cell_type": "code",
      "metadata": {
        "id": "1I8ZV1g-i2Ck",
        "colab_type": "code",
        "outputId": "485665ff-c93e-43b6-ca32-8a494a8f0beb",
        "colab": {
          "base_uri": "https://localhost:8080/",
          "height": 564
        }
      },
      "source": [
        "geojson_df.head()"
      ],
      "execution_count": 0,
      "outputs": [
        {
          "output_type": "execute_result",
          "data": {
            "text/html": [
              "<div>\n",
              "<style scoped>\n",
              "    .dataframe tbody tr th:only-of-type {\n",
              "        vertical-align: middle;\n",
              "    }\n",
              "\n",
              "    .dataframe tbody tr th {\n",
              "        vertical-align: top;\n",
              "    }\n",
              "\n",
              "    .dataframe thead th {\n",
              "        text-align: right;\n",
              "    }\n",
              "</style>\n",
              "<table border=\"1\" class=\"dataframe\">\n",
              "  <thead>\n",
              "    <tr style=\"text-align: right;\">\n",
              "      <th></th>\n",
              "      <th>id</th>\n",
              "      <th>@id</th>\n",
              "      <th>admin_level</th>\n",
              "      <th>boundary</th>\n",
              "      <th>is_in</th>\n",
              "      <th>name</th>\n",
              "      <th>place</th>\n",
              "      <th>type</th>\n",
              "      <th>alt_name</th>\n",
              "      <th>wikidata</th>\n",
              "      <th>geometry</th>\n",
              "    </tr>\n",
              "  </thead>\n",
              "  <tbody>\n",
              "    <tr>\n",
              "      <th>0</th>\n",
              "      <td>relation/388146</td>\n",
              "      <td>relation/388146</td>\n",
              "      <td>10</td>\n",
              "      <td>administrative</td>\n",
              "      <td>Natal</td>\n",
              "      <td>Pitimbu</td>\n",
              "      <td>suburb</td>\n",
              "      <td>boundary</td>\n",
              "      <td>None</td>\n",
              "      <td>None</td>\n",
              "      <td>POLYGON ((-35.2437294 -5.8420332, -35.2437895 ...</td>\n",
              "    </tr>\n",
              "    <tr>\n",
              "      <th>1</th>\n",
              "      <td>relation/388147</td>\n",
              "      <td>relation/388147</td>\n",
              "      <td>10</td>\n",
              "      <td>administrative</td>\n",
              "      <td>Natal</td>\n",
              "      <td>Planalto</td>\n",
              "      <td>suburb</td>\n",
              "      <td>boundary</td>\n",
              "      <td>None</td>\n",
              "      <td>None</td>\n",
              "      <td>POLYGON ((-35.2538208 -5.8662863, -35.2536119 ...</td>\n",
              "    </tr>\n",
              "    <tr>\n",
              "      <th>2</th>\n",
              "      <td>relation/397022</td>\n",
              "      <td>relation/397022</td>\n",
              "      <td>10</td>\n",
              "      <td>administrative</td>\n",
              "      <td>Natal</td>\n",
              "      <td>Ponta Negra</td>\n",
              "      <td>suburb</td>\n",
              "      <td>boundary</td>\n",
              "      <td>None</td>\n",
              "      <td>None</td>\n",
              "      <td>POLYGON ((-35.1890225 -5.8907943, -35.1889493 ...</td>\n",
              "    </tr>\n",
              "    <tr>\n",
              "      <th>3</th>\n",
              "      <td>relation/1230018</td>\n",
              "      <td>relation/1230018</td>\n",
              "      <td>10</td>\n",
              "      <td>administrative</td>\n",
              "      <td>Natal</td>\n",
              "      <td>Neópolis</td>\n",
              "      <td>suburb</td>\n",
              "      <td>boundary</td>\n",
              "      <td>None</td>\n",
              "      <td>None</td>\n",
              "      <td>POLYGON ((-35.2003077 -5.8734101, -35.1999644 ...</td>\n",
              "    </tr>\n",
              "    <tr>\n",
              "      <th>4</th>\n",
              "      <td>relation/1230020</td>\n",
              "      <td>relation/1230020</td>\n",
              "      <td>10</td>\n",
              "      <td>administrative</td>\n",
              "      <td>Natal</td>\n",
              "      <td>Capim Macio</td>\n",
              "      <td>suburb</td>\n",
              "      <td>boundary</td>\n",
              "      <td>None</td>\n",
              "      <td>None</td>\n",
              "      <td>POLYGON ((-35.1894621 -5.8724223, -35.1890659 ...</td>\n",
              "    </tr>\n",
              "  </tbody>\n",
              "</table>\n",
              "</div>"
            ],
            "text/plain": [
              "                 id  ...                                           geometry\n",
              "0   relation/388146  ...  POLYGON ((-35.2437294 -5.8420332, -35.2437895 ...\n",
              "1   relation/388147  ...  POLYGON ((-35.2538208 -5.8662863, -35.2536119 ...\n",
              "2   relation/397022  ...  POLYGON ((-35.1890225 -5.8907943, -35.1889493 ...\n",
              "3  relation/1230018  ...  POLYGON ((-35.2003077 -5.8734101, -35.1999644 ...\n",
              "4  relation/1230020  ...  POLYGON ((-35.1894621 -5.8724223, -35.1890659 ...\n",
              "\n",
              "[5 rows x 11 columns]"
            ]
          },
          "metadata": {
            "tags": []
          },
          "execution_count": 18
        }
      ]
    },
    {
      "cell_type": "code",
      "metadata": {
        "id": "WMPrmnDa0oH0",
        "colab_type": "code",
        "colab": {}
      },
      "source": [
        "# Fix typo\n",
        "typo_df = geojson_df.query('name == \"Felipe Camarão\"')\n",
        "\n",
        "geojson_df.loc[typo_df.index.values, 'name'] = 'Filipe Camarão'"
      ],
      "execution_count": 0,
      "outputs": []
    },
    {
      "cell_type": "code",
      "metadata": {
        "colab_type": "code",
        "id": "rPim17RVVnfx",
        "colab": {}
      },
      "source": [
        "neighborhood_df['x'] = pd.Series()\n",
        "neighborhood_df['y'] = pd.Series()\n",
        "\n",
        "for index, data in geojson_df.iterrows():\n",
        "  name = unidecode.unidecode(data['name'])\n",
        "  # Get the polygon\n",
        "  polygon = Polygon(data['geometry'])\n",
        "  \n",
        "  # Get neighbourhood\n",
        "  neigh = neighborhood_df.query('name_norm == \"' + name +'\"')\n",
        "  neighborhood_df.loc[neigh.index.values[0], 'x'] = polygon.centroid.x\n",
        "  neighborhood_df.loc[neigh.index.values[0], 'y'] = polygon.centroid.y"
      ],
      "execution_count": 0,
      "outputs": []
    },
    {
      "cell_type": "markdown",
      "metadata": {
        "id": "6d30aWHpBNoc",
        "colab_type": "text"
      },
      "source": [
        "## Calculating distances"
      ]
    },
    {
      "cell_type": "code",
      "metadata": {
        "id": "STX64QL_j-Aj",
        "colab_type": "code",
        "outputId": "ea8a74f1-4b97-4419-d6be-2f7656fcff1d",
        "colab": {
          "base_uri": "https://localhost:8080/",
          "height": 1329
        }
      },
      "source": [
        "!pip install osmnx\n",
        "!pip install pandana"
      ],
      "execution_count": 0,
      "outputs": [
        {
          "output_type": "stream",
          "text": [
            "Collecting osmnx\n",
            "\u001b[?25l  Downloading https://files.pythonhosted.org/packages/69/77/98cbee7f94abe2c60013fd8751f2b2d6054d48078c61f9774cff0b341f43/osmnx-0.10-py2.py3-none-any.whl (70kB)\n",
            "\u001b[K     |████████████████████████████████| 71kB 2.5MB/s \n",
            "\u001b[?25hRequirement already satisfied: requests>=2.21 in /usr/local/lib/python3.6/dist-packages (from osmnx) (2.21.0)\n",
            "Collecting Rtree>=0.8.3 (from osmnx)\n",
            "  Downloading https://files.pythonhosted.org/packages/33/0d/0bcb0fdd759570e85697189f675fa462131e5636482f2832288bbe4bb6f7/Rtree-0.8.3-py3-none-any.whl\n",
            "Collecting descartes>=1.1 (from osmnx)\n",
            "  Downloading https://files.pythonhosted.org/packages/e5/b6/1ed2eb03989ae574584664985367ba70cd9cf8b32ee8cad0e8aaeac819f3/descartes-1.1.0-py3-none-any.whl\n",
            "Requirement already satisfied: matplotlib>=2.2 in /usr/local/lib/python3.6/dist-packages (from osmnx) (3.0.3)\n",
            "Requirement already satisfied: networkx>=2.3 in /usr/local/lib/python3.6/dist-packages (from osmnx) (2.3)\n",
            "Requirement already satisfied: geopandas>=0.5 in /usr/local/lib/python3.6/dist-packages (from osmnx) (0.5.0)\n",
            "Requirement already satisfied: Shapely>=1.6 in /usr/local/lib/python3.6/dist-packages (from osmnx) (1.6.4.post2)\n",
            "Requirement already satisfied: pandas>=0.24 in /usr/local/lib/python3.6/dist-packages (from osmnx) (0.24.2)\n",
            "Requirement already satisfied: numpy>=1.16 in /usr/local/lib/python3.6/dist-packages (from osmnx) (1.16.3)\n",
            "Requirement already satisfied: chardet<3.1.0,>=3.0.2 in /usr/local/lib/python3.6/dist-packages (from requests>=2.21->osmnx) (3.0.4)\n",
            "Requirement already satisfied: certifi>=2017.4.17 in /usr/local/lib/python3.6/dist-packages (from requests>=2.21->osmnx) (2019.3.9)\n",
            "Requirement already satisfied: idna<2.9,>=2.5 in /usr/local/lib/python3.6/dist-packages (from requests>=2.21->osmnx) (2.8)\n",
            "Requirement already satisfied: urllib3<1.25,>=1.21.1 in /usr/local/lib/python3.6/dist-packages (from requests>=2.21->osmnx) (1.24.3)\n",
            "Requirement already satisfied: setuptools in /usr/local/lib/python3.6/dist-packages (from Rtree>=0.8.3->osmnx) (41.0.1)\n",
            "Requirement already satisfied: kiwisolver>=1.0.1 in /usr/local/lib/python3.6/dist-packages (from matplotlib>=2.2->osmnx) (1.1.0)\n",
            "Requirement already satisfied: python-dateutil>=2.1 in /usr/local/lib/python3.6/dist-packages (from matplotlib>=2.2->osmnx) (2.5.3)\n",
            "Requirement already satisfied: cycler>=0.10 in /usr/local/lib/python3.6/dist-packages (from matplotlib>=2.2->osmnx) (0.10.0)\n",
            "Requirement already satisfied: pyparsing!=2.0.4,!=2.1.2,!=2.1.6,>=2.0.1 in /usr/local/lib/python3.6/dist-packages (from matplotlib>=2.2->osmnx) (2.4.0)\n",
            "Requirement already satisfied: decorator>=4.3.0 in /usr/local/lib/python3.6/dist-packages (from networkx>=2.3->osmnx) (4.4.0)\n",
            "Requirement already satisfied: pyproj in /usr/local/lib/python3.6/dist-packages (from geopandas>=0.5->osmnx) (2.1.3)\n",
            "Requirement already satisfied: fiona in /usr/local/lib/python3.6/dist-packages (from geopandas>=0.5->osmnx) (1.8.6)\n",
            "Requirement already satisfied: pytz>=2011k in /usr/local/lib/python3.6/dist-packages (from pandas>=0.24->osmnx) (2018.9)\n",
            "Requirement already satisfied: six>=1.5 in /usr/local/lib/python3.6/dist-packages (from python-dateutil>=2.1->matplotlib>=2.2->osmnx) (1.12.0)\n",
            "Requirement already satisfied: click-plugins>=1.0 in /usr/local/lib/python3.6/dist-packages (from fiona->geopandas>=0.5->osmnx) (1.1.1)\n",
            "Requirement already satisfied: munch in /usr/local/lib/python3.6/dist-packages (from fiona->geopandas>=0.5->osmnx) (2.3.2)\n",
            "Requirement already satisfied: click<8,>=4.0 in /usr/local/lib/python3.6/dist-packages (from fiona->geopandas>=0.5->osmnx) (7.0)\n",
            "Requirement already satisfied: cligj>=0.5 in /usr/local/lib/python3.6/dist-packages (from fiona->geopandas>=0.5->osmnx) (0.5.0)\n",
            "Requirement already satisfied: attrs>=17 in /usr/local/lib/python3.6/dist-packages (from fiona->geopandas>=0.5->osmnx) (19.1.0)\n",
            "Installing collected packages: Rtree, descartes, osmnx\n",
            "Successfully installed Rtree-0.8.3 descartes-1.1.0 osmnx-0.10\n",
            "Collecting pandana\n",
            "\u001b[?25l  Downloading https://files.pythonhosted.org/packages/68/a6/2ac42b85ea5353370d40abde239493149a2a1974143881ff5c7208429daa/pandana-0.4.1.tar.gz (103kB)\n",
            "\u001b[K     |████████████████████████████████| 112kB 2.8MB/s \n",
            "\u001b[?25hRequirement already satisfied: matplotlib>=1.3.1 in /usr/local/lib/python3.6/dist-packages (from pandana) (3.0.3)\n",
            "Requirement already satisfied: numpy>=1.8.0 in /usr/local/lib/python3.6/dist-packages (from pandana) (1.16.3)\n",
            "Requirement already satisfied: pandas>=0.17.0 in /usr/local/lib/python3.6/dist-packages (from pandana) (0.24.2)\n",
            "Requirement already satisfied: requests>=2.0 in /usr/local/lib/python3.6/dist-packages (from pandana) (2.21.0)\n",
            "Requirement already satisfied: tables>=3.1.0 in /usr/local/lib/python3.6/dist-packages (from pandana) (3.4.4)\n",
            "Collecting osmnet>=0.1.2 (from pandana)\n",
            "  Downloading https://files.pythonhosted.org/packages/68/64/ec9b88e7cb694b33a1adf9822e40e513d6676a122121769d8ccdd773596f/osmnet-0.1.5-py2.py3-none-any.whl\n",
            "Requirement already satisfied: cython>=0.25.2 in /usr/local/lib/python3.6/dist-packages (from pandana) (0.29.7)\n",
            "Requirement already satisfied: scikit-learn>=0.18.1 in /usr/local/lib/python3.6/dist-packages (from pandana) (0.21.1)\n",
            "Requirement already satisfied: cycler>=0.10 in /usr/local/lib/python3.6/dist-packages (from matplotlib>=1.3.1->pandana) (0.10.0)\n",
            "Requirement already satisfied: python-dateutil>=2.1 in /usr/local/lib/python3.6/dist-packages (from matplotlib>=1.3.1->pandana) (2.5.3)\n",
            "Requirement already satisfied: kiwisolver>=1.0.1 in /usr/local/lib/python3.6/dist-packages (from matplotlib>=1.3.1->pandana) (1.1.0)\n",
            "Requirement already satisfied: pyparsing!=2.0.4,!=2.1.2,!=2.1.6,>=2.0.1 in /usr/local/lib/python3.6/dist-packages (from matplotlib>=1.3.1->pandana) (2.4.0)\n",
            "Requirement already satisfied: pytz>=2011k in /usr/local/lib/python3.6/dist-packages (from pandas>=0.17.0->pandana) (2018.9)\n",
            "Requirement already satisfied: urllib3<1.25,>=1.21.1 in /usr/local/lib/python3.6/dist-packages (from requests>=2.0->pandana) (1.24.3)\n",
            "Requirement already satisfied: certifi>=2017.4.17 in /usr/local/lib/python3.6/dist-packages (from requests>=2.0->pandana) (2019.3.9)\n",
            "Requirement already satisfied: chardet<3.1.0,>=3.0.2 in /usr/local/lib/python3.6/dist-packages (from requests>=2.0->pandana) (3.0.4)\n",
            "Requirement already satisfied: idna<2.9,>=2.5 in /usr/local/lib/python3.6/dist-packages (from requests>=2.0->pandana) (2.8)\n",
            "Requirement already satisfied: six>=1.9.0 in /usr/local/lib/python3.6/dist-packages (from tables>=3.1.0->pandana) (1.12.0)\n",
            "Requirement already satisfied: numexpr>=2.5.2 in /usr/local/lib/python3.6/dist-packages (from tables>=3.1.0->pandana) (2.6.9)\n",
            "Requirement already satisfied: geopandas>=0.2.1 in /usr/local/lib/python3.6/dist-packages (from osmnet>=0.1.2->pandana) (0.5.0)\n",
            "Requirement already satisfied: Shapely>=1.5 in /usr/local/lib/python3.6/dist-packages (from osmnet>=0.1.2->pandana) (1.6.4.post2)\n",
            "Requirement already satisfied: scipy>=0.17.0 in /usr/local/lib/python3.6/dist-packages (from scikit-learn>=0.18.1->pandana) (1.3.0)\n",
            "Requirement already satisfied: joblib>=0.11 in /usr/local/lib/python3.6/dist-packages (from scikit-learn>=0.18.1->pandana) (0.12.5)\n",
            "Requirement already satisfied: setuptools in /usr/local/lib/python3.6/dist-packages (from kiwisolver>=1.0.1->matplotlib>=1.3.1->pandana) (41.0.1)\n",
            "Requirement already satisfied: fiona in /usr/local/lib/python3.6/dist-packages (from geopandas>=0.2.1->osmnet>=0.1.2->pandana) (1.8.6)\n",
            "Requirement already satisfied: pyproj in /usr/local/lib/python3.6/dist-packages (from geopandas>=0.2.1->osmnet>=0.1.2->pandana) (2.1.3)\n",
            "Requirement already satisfied: attrs>=17 in /usr/local/lib/python3.6/dist-packages (from fiona->geopandas>=0.2.1->osmnet>=0.1.2->pandana) (19.1.0)\n",
            "Requirement already satisfied: click-plugins>=1.0 in /usr/local/lib/python3.6/dist-packages (from fiona->geopandas>=0.2.1->osmnet>=0.1.2->pandana) (1.1.1)\n",
            "Requirement already satisfied: munch in /usr/local/lib/python3.6/dist-packages (from fiona->geopandas>=0.2.1->osmnet>=0.1.2->pandana) (2.3.2)\n",
            "Requirement already satisfied: click<8,>=4.0 in /usr/local/lib/python3.6/dist-packages (from fiona->geopandas>=0.2.1->osmnet>=0.1.2->pandana) (7.0)\n",
            "Requirement already satisfied: cligj>=0.5 in /usr/local/lib/python3.6/dist-packages (from fiona->geopandas>=0.2.1->osmnet>=0.1.2->pandana) (0.5.0)\n",
            "Building wheels for collected packages: pandana\n",
            "  Building wheel for pandana (setup.py) ... \u001b[?25l\u001b[?25hdone\n",
            "  Stored in directory: /root/.cache/pip/wheels/1b/6b/8e/d407b4024967083177d62b39840e9099df050a8d5967f174cc\n",
            "Successfully built pandana\n",
            "Installing collected packages: osmnet, pandana\n",
            "Successfully installed osmnet-0.1.5 pandana-0.4.1\n"
          ],
          "name": "stdout"
        }
      ]
    },
    {
      "cell_type": "code",
      "metadata": {
        "id": "RkccAdqx9MJd",
        "colab_type": "code",
        "colab": {}
      },
      "source": [
        "import osmnx as ox\n",
        "from osmnx.utils import get_nearest_node"
      ],
      "execution_count": 0,
      "outputs": []
    },
    {
      "cell_type": "markdown",
      "metadata": {
        "id": "OcyMJXGv5pQO",
        "colab_type": "text"
      },
      "source": [
        "With the help of the [osmnx](https://osmnx.readthedocs.io/en/stable/osmnx.html) module, we obtain the graph corresponding to the city Natal by using the function `graph_from_address`.\n",
        "\n",
        "We also are able to "
      ]
    },
    {
      "cell_type": "code",
      "metadata": {
        "id": "HUiFvhI6Fa8y",
        "colab_type": "code",
        "outputId": "feba0039-e0bf-44be-bb09-0b6d2121ff6a",
        "colab": {
          "base_uri": "https://localhost:8080/",
          "height": 357
        }
      },
      "source": [
        "distance = 4000\n",
        "city_address = 'Natal, Rio Grande do Norte'\n",
        "G = ox.graph_from_address(city_address,distance = distance)\n",
        "cityGraph, axes = ox.plot_graph(G)"
      ],
      "execution_count": 0,
      "outputs": [
        {
          "output_type": "display_data",
          "data": {
            "image/png": "[encoded data removed]",
            "text/plain": [
              "<Figure size 377.932x432 with 1 Axes>"
            ]
          },
          "metadata": {
            "tags": []
          }
        }
      ]
    },
    {
      "cell_type": "markdown",
      "metadata": {
        "id": "tlEJ1bBS7sm_",
        "colab_type": "text"
      },
      "source": [
        "## Retrieving the points of interest\n",
        "\n",
        "By consulting the `pois_from_address`, we are able to find all the points of interestin within the city_address."
      ]
    },
    {
      "cell_type": "code",
      "metadata": {
        "id": "tNRHfHaARwli",
        "colab_type": "code",
        "colab": {}
      },
      "source": [
        "amenities = ['hospital', 'clinic', 'restaurant','cafe','school','bank','pharmacy', 'police']\n",
        "\n",
        "all_pois = ox.pois.pois_from_address(city_address, distance, amenities=amenities)"
      ],
      "execution_count": 0,
      "outputs": []
    },
    {
      "cell_type": "code",
      "metadata": {
        "id": "Nw_NYxtYW-EN",
        "colab_type": "code",
        "colab": {}
      },
      "source": [
        "all_pois.dropna(axis='index', subset=['amenity'], inplace=True)"
      ],
      "execution_count": 0,
      "outputs": []
    },
    {
      "cell_type": "code",
      "metadata": {
        "id": "lTd5tZ6M8QZu",
        "colab_type": "code",
        "outputId": "85b3e6ee-b063-4e50-ede2-d644b8326f68",
        "colab": {
          "base_uri": "https://localhost:8080/",
          "height": 204
        }
      },
      "source": [
        "all_pois[['amenity', 'name', 'osmid']].head()"
      ],
      "execution_count": 0,
      "outputs": [
        {
          "output_type": "execute_result",
          "data": {
            "text/html": [
              "<div>\n",
              "<style scoped>\n",
              "    .dataframe tbody tr th:only-of-type {\n",
              "        vertical-align: middle;\n",
              "    }\n",
              "\n",
              "    .dataframe tbody tr th {\n",
              "        vertical-align: top;\n",
              "    }\n",
              "\n",
              "    .dataframe thead th {\n",
              "        text-align: right;\n",
              "    }\n",
              "</style>\n",
              "<table border=\"1\" class=\"dataframe\">\n",
              "  <thead>\n",
              "    <tr style=\"text-align: right;\">\n",
              "      <th></th>\n",
              "      <th>amenity</th>\n",
              "      <th>name</th>\n",
              "      <th>osmid</th>\n",
              "    </tr>\n",
              "  </thead>\n",
              "  <tbody>\n",
              "    <tr>\n",
              "      <th>492906773</th>\n",
              "      <td>pharmacy</td>\n",
              "      <td>Farmácia Pague Menos</td>\n",
              "      <td>492906773</td>\n",
              "    </tr>\n",
              "    <tr>\n",
              "      <th>501152457</th>\n",
              "      <td>restaurant</td>\n",
              "      <td>Restaurante da APURN</td>\n",
              "      <td>501152457</td>\n",
              "    </tr>\n",
              "    <tr>\n",
              "      <th>501152488</th>\n",
              "      <td>pharmacy</td>\n",
              "      <td>NaN</td>\n",
              "      <td>501152488</td>\n",
              "    </tr>\n",
              "    <tr>\n",
              "      <th>501152491</th>\n",
              "      <td>restaurant</td>\n",
              "      <td>NaN</td>\n",
              "      <td>501152491</td>\n",
              "    </tr>\n",
              "    <tr>\n",
              "      <th>501170997</th>\n",
              "      <td>school</td>\n",
              "      <td>Centro de Atenção Integral a Criança e ao Adol...</td>\n",
              "      <td>501170997</td>\n",
              "    </tr>\n",
              "  </tbody>\n",
              "</table>\n",
              "</div>"
            ],
            "text/plain": [
              "              amenity  ...      osmid\n",
              "492906773    pharmacy  ...  492906773\n",
              "501152457  restaurant  ...  501152457\n",
              "501152488    pharmacy  ...  501152488\n",
              "501152491  restaurant  ...  501152491\n",
              "501170997      school  ...  501170997\n",
              "\n",
              "[5 rows x 3 columns]"
            ]
          },
          "metadata": {
            "tags": []
          },
          "execution_count": 26
        }
      ]
    },
    {
      "cell_type": "markdown",
      "metadata": {
        "id": "F1LPprcr8dLN",
        "colab_type": "text"
      },
      "source": [
        "## Gettting nearet points\n",
        "\n",
        "After adding the points of interest to the graph, we are able to retrieve the nearest node in the graph, as well as the distance to it."
      ]
    },
    {
      "cell_type": "code",
      "metadata": {
        "id": "ac9SRxHVaD61",
        "colab_type": "code",
        "colab": {}
      },
      "source": [
        "for id, geo in all_pois[['osmid', 'geometry']].values :\n",
        "  if(type(geo) == Point):\n",
        "    G.add_node(id, x=geo.x, y=geo.y, osmid=id)"
      ],
      "execution_count": 0,
      "outputs": []
    },
    {
      "cell_type": "code",
      "metadata": {
        "id": "IvnotNJTkJ1f",
        "colab_type": "code",
        "colab": {}
      },
      "source": [
        "nodes = G.nodes(data=True)\n",
        "def get_dict(p_id, lat, lon, amenity):\n",
        "  \"\"\" Create a dict with the result of the query\n",
        "  of the nearest amenity for a centroid of a neighbourhood\n",
        "  \"\"\"\n",
        "  \n",
        "  # Get points of interest by category\n",
        "  pois = all_pois.query('amenity == \"' + amenity + '\"').reset_index()\n",
        "  amenities_ids = pois.osmid.unique()\n",
        "  \n",
        "  # Get the subgraph which contains\n",
        "  selected_nodes = [n for n,v in nodes if (v['osmid']) in amenities_ids]  \n",
        "  H = G.subgraph(selected_nodes)\n",
        "  \n",
        "  # Calculate distance in meters\n",
        "  nearest_node = get_nearest_node(H, (lat, lon), return_dist=True)\n",
        "  \n",
        "  # Gather all the information\n",
        "  dictionary = {}\n",
        "  dictionary['id'] = p_id\n",
        "  dictionary['distance'] = nearest_node[1]\n",
        "  dictionary['amenity'] = amenity\n",
        "  \n",
        "  return dictionary"
      ],
      "execution_count": 0,
      "outputs": []
    },
    {
      "cell_type": "code",
      "metadata": {
        "id": "Hfkmbnzvd5OV",
        "colab_type": "code",
        "colab": {}
      },
      "source": [
        "# Calculate distance by amenity\n",
        "distances = []\n",
        "for amenity in amenities:\n",
        "  \n",
        "  # Get nearest node\n",
        "  points = neighborhood_df[['id', 'x', 'y']].values\n",
        "  dists = [get_dict(p_id, y, x,amenity) for p_id, x, y in points ]\n",
        "  distances += dists"
      ],
      "execution_count": 0,
      "outputs": []
    },
    {
      "cell_type": "code",
      "metadata": {
        "id": "3bJFTKrre1BT",
        "colab_type": "code",
        "colab": {}
      },
      "source": [
        "# Check out the result\n",
        "distances[:5]"
      ],
      "execution_count": 0,
      "outputs": []
    },
    {
      "cell_type": "markdown",
      "metadata": {
        "id": "aLet_mT39947",
        "colab_type": "text"
      },
      "source": [
        "Based on the dictionary above, we create a dataframe in order to tidy our data and separate the distance by amenity and prepare the information to be included on the final dataframe."
      ]
    },
    {
      "cell_type": "code",
      "metadata": {
        "id": "lF8nGiqOS3u6",
        "colab_type": "code",
        "colab": {}
      },
      "source": [
        "distances_df = pd.DataFrame(distances)"
      ],
      "execution_count": 0,
      "outputs": []
    },
    {
      "cell_type": "code",
      "metadata": {
        "id": "0J3ZplzXnNNF",
        "colab_type": "code",
        "colab": {}
      },
      "source": [
        "distances_df.head()"
      ],
      "execution_count": 0,
      "outputs": []
    },
    {
      "cell_type": "code",
      "metadata": {
        "id": "qVGLkv9bnrHR",
        "colab_type": "code",
        "colab": {}
      },
      "source": [
        "distances_df = distances_df.pivot_table(values='distance', index='id',\n",
        "                                        columns='amenity', aggfunc='mean')"
      ],
      "execution_count": 0,
      "outputs": []
    },
    {
      "cell_type": "code",
      "metadata": {
        "id": "kEAfLeYT4mRR",
        "colab_type": "code",
        "colab": {}
      },
      "source": [
        "distances_df.head()"
      ],
      "execution_count": 0,
      "outputs": []
    },
    {
      "cell_type": "markdown",
      "metadata": {
        "id": "EfBzWIKX3ytj",
        "colab_type": "text"
      },
      "source": [
        "Given the distance of the centroid of the neighborhood, we now add this information to the data set"
      ]
    },
    {
      "cell_type": "code",
      "metadata": {
        "id": "-OIE3C5AllgC",
        "colab_type": "code",
        "colab": {}
      },
      "source": [
        "neighborhood_df = neighborhood_df.merge(distances_df, on='id', how='left')\n",
        "\n",
        "# Update columns name\n",
        "new_columns = { amenity: 'distance_'+amenity for amenity in amenities}\n",
        "neighborhood_df.rename(columns=new_columns, inplace=True)"
      ],
      "execution_count": 0,
      "outputs": []
    },
    {
      "cell_type": "code",
      "metadata": {
        "id": "UoF7u3Een25k",
        "colab_type": "code",
        "colab": {}
      },
      "source": [
        "neighborhood_df.head()"
      ],
      "execution_count": 0,
      "outputs": []
    },
    {
      "cell_type": "markdown",
      "metadata": {
        "id": "TVscuz5q-fJ0",
        "colab_type": "text"
      },
      "source": [
        "Finally, let's just check if any entry is null."
      ]
    },
    {
      "cell_type": "code",
      "metadata": {
        "id": "rYfVxUqQ3Ezm",
        "colab_type": "code",
        "colab": {}
      },
      "source": [
        "neighborhood_df.isna().sum()"
      ],
      "execution_count": 0,
      "outputs": []
    },
    {
      "cell_type": "markdown",
      "metadata": {
        "id": "JFFfw1obxmXG",
        "colab_type": "text"
      },
      "source": [
        "## Saving the dataset"
      ]
    },
    {
      "cell_type": "code",
      "metadata": {
        "id": "xVxE7Q7zxtD_",
        "colab_type": "code",
        "colab": {}
      },
      "source": [
        "neighborhood_df.to_csv('neighbourhoods.csv')"
      ],
      "execution_count": 0,
      "outputs": []
    }
  ]
}